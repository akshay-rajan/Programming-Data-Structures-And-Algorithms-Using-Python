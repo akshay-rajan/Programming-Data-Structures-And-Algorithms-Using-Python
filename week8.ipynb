{
 "cells": [
  {
   "cell_type": "markdown",
   "metadata": {},
   "source": [
    "## Inductive Definintions\n",
    "\n",
    "* Factorial\n",
    "\n",
    "    f(0) = 1\n",
    "    f(n) = n * f(n - 1)\n",
    "\n",
    "* Insertion Sort\n",
    "\n",
    "    isort([]) = []\n",
    "    isort([x1, x2, ... , xn]) = insert(x1, isort([x2, ..., xn]))\n",
    "\n",
    "Inductive definitions directly yield a recursive program.\n",
    "\n",
    "We are dividing the problem into `subproblems`. `factorial(n - 1)` is a subproblem for `factorial(n)`. The solution is obtained by combining solutions to subproblems.\n",
    "\n",
    "`Overlapping Subproblems` cause wasteful recomputation and makes the program inefficient."
   ]
  },
  {
   "cell_type": "markdown",
   "metadata": {},
   "source": [
    "## Memoization\n",
    "\n",
    "Memoization means, remembering the values that are already computed. We build a table of values (`Memory Table`) that are computed. As we compute, we check the table if the value has already been computed (remember - memo), and if so, the value is taken from the table. Else the value is computed and added to the table."
   ]
  },
  {
   "cell_type": "markdown",
   "metadata": {},
   "source": []
  }
 ],
 "metadata": {
  "language_info": {
   "name": "python"
  }
 },
 "nbformat": 4,
 "nbformat_minor": 2
}
