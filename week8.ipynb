{
 "cells": [
  {
   "cell_type": "markdown",
   "metadata": {},
   "source": [
    "## Inductive Definintions\n",
    "\n",
    "* Factorial\n",
    "\n",
    "    f(0) = 1\n",
    "    f(n) = n * f(n - 1)\n",
    "\n",
    "* Insertion Sort\n",
    "\n",
    "    isort([]) = []\n",
    "    isort([x1, x2, ... , xn]) = insert(x1, isort([x2, ..., xn]))\n",
    "\n",
    "Inductive definitions directly yield a recursive program.\n",
    "\n",
    "We are dividing the problem into `subproblems`. `factorial(n - 1)` is a subproblem for `factorial(n)`. The solution is obtained by combining solutions to subproblems.\n",
    "\n",
    "`Overlapping Subproblems` cause wasteful recomputation and makes the program inefficient."
   ]
  },
  {
   "cell_type": "markdown",
   "metadata": {},
   "source": [
    "## Memoization\n",
    "\n",
    "Memoization means, remembering the values that are already computed. We build a table of values (`Memory Table`) that are computed. As we compute, we check the table if the value has already been computed (remember - memo), and if so, the value is taken from the table. Else the value is computed and added to the table.\n",
    "\n",
    "Here, the computation table is linear. We look up each value in the table before starting a recursive computation."
   ]
  },
  {
   "cell_type": "code",
   "execution_count": 6,
   "metadata": {},
   "outputs": [
    {
     "data": {
      "text/plain": [
       "13"
      ]
     },
     "execution_count": 6,
     "metadata": {},
     "output_type": "execute_result"
    }
   ],
   "source": [
    "def fibonacci(n):\n",
    "    if memoryTable[n]:\n",
    "        return memoryTable[n]\n",
    "    if n <= 1:\n",
    "        value = n\n",
    "    else:\n",
    "        value = fibonacci(n - 1) + fibonacci(n - 2)\n",
    "        memoryTable[n] = value\n",
    "    return value\n",
    "\n",
    "memoryTable = [None] * 100\n",
    "fibonacci(7)"
   ]
  },
  {
   "cell_type": "markdown",
   "metadata": {},
   "source": [
    "In general, \n",
    "\n",
    "```\n",
    "function f(x, y, z):\n",
    "    if ftable[x][y][z]:\n",
    "        return ftable[x][y][z]\n",
    "    value = expression_in_terms_of_subproblems\n",
    "    ftable[x][y][z] = value\n",
    "    return value\n",
    "```"
   ]
  },
  {
   "cell_type": "markdown",
   "metadata": {},
   "source": [
    "# Dynamic Programming\n",
    "\n",
    "Dynamic programming is a strategy used to optimize `memoization`. Here, we solve the subproblems **in the order of dependencies**.\n",
    "\n",
    "The dependency order must be *acyclic*. We anticipate what the memory table would look like, and solve the problem iteratively."
   ]
  },
  {
   "cell_type": "code",
   "execution_count": 8,
   "metadata": {},
   "outputs": [
    {
     "data": {
      "text/plain": [
       "13"
      ]
     },
     "execution_count": 8,
     "metadata": {},
     "output_type": "execute_result"
    }
   ],
   "source": [
    "def fibonacci(n):\n",
    "    fibTable = [0, 1]\n",
    "    for i in range(2, n + 1):\n",
    "        fibTable.append(fibTable[i - 1] + fibTable[i - 2])\n",
    "    return fibTable[n]\n",
    "\n",
    "fibonacci(7)"
   ]
  },
  {
   "cell_type": "markdown",
   "metadata": {},
   "source": [
    "So, memoization looks up the memory table before making a recursive call, meanwhile dynamic programming solves subproblems in their order of dependencies, iteratively. DP is often much more efficient."
   ]
  }
 ],
 "metadata": {
  "kernelspec": {
   "display_name": "Python 3",
   "language": "python",
   "name": "python3"
  },
  "language_info": {
   "codemirror_mode": {
    "name": "ipython",
    "version": 3
   },
   "file_extension": ".py",
   "mimetype": "text/x-python",
   "name": "python",
   "nbconvert_exporter": "python",
   "pygments_lexer": "ipython3",
   "version": "3.11.3"
  }
 },
 "nbformat": 4,
 "nbformat_minor": 2
}
