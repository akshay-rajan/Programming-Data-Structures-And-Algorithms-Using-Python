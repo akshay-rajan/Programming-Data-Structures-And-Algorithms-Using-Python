{
 "cells": [
  {
   "cell_type": "markdown",
   "metadata": {},
   "source": [
    "## Inductive Definintions\n",
    "\n",
    "* Factorial\n",
    "\n",
    "    f(0) = 1\n",
    "    f(n) = n * f(n - 1)\n",
    "\n",
    "* Insertion Sort\n",
    "\n",
    "    isort([]) = []\n",
    "    isort([x1, x2, ... , xn]) = insert(x1, isort([x2, ..., xn]))\n",
    "\n",
    "Inductive definitions directly yield a recursive program.\n",
    "\n",
    "We are dividing the problem into `subproblems`. `factorial(n - 1)` is a subproblem for `factorial(n)`. The solution is obtained by combining solutions to subproblems.\n",
    "\n",
    "`Overlapping Subproblems` cause wasteful recomputation and makes the program inefficient."
   ]
  },
  {
   "cell_type": "markdown",
   "metadata": {},
   "source": [
    "# Memoization\n",
    "\n",
    "Memoization means, remembering the values that are already computed. We build a table of values (`Memory Table`) that are computed. As we compute, we check the table if the value has already been computed (remember - memo), and if so, the value is taken from the table. Else the value is computed and added to the table.\n",
    "\n",
    "Here, the computation table is linear. We look up each value in the table before starting a recursive computation."
   ]
  },
  {
   "cell_type": "code",
   "execution_count": 1,
   "metadata": {},
   "outputs": [
    {
     "data": {
      "text/plain": [
       "13"
      ]
     },
     "execution_count": 1,
     "metadata": {},
     "output_type": "execute_result"
    }
   ],
   "source": [
    "def fibonacci(n):\n",
    "    if memoryTable[n]:\n",
    "        return memoryTable[n]\n",
    "    if n <= 1:\n",
    "        value = n\n",
    "    else:\n",
    "        value = fibonacci(n - 1) + fibonacci(n - 2)\n",
    "        memoryTable[n] = value\n",
    "    return value\n",
    "\n",
    "memoryTable = [None] * 100\n",
    "fibonacci(7)"
   ]
  },
  {
   "cell_type": "markdown",
   "metadata": {},
   "source": [
    "In general, \n",
    "\n",
    "```\n",
    "function f(x, y, z):\n",
    "    if ftable[x][y][z]:\n",
    "        return ftable[x][y][z]\n",
    "    value = expression_in_terms_of_subproblems\n",
    "    ftable[x][y][z] = value\n",
    "    return value\n",
    "```"
   ]
  },
  {
   "cell_type": "markdown",
   "metadata": {},
   "source": [
    "# Dynamic Programming\n",
    "\n",
    "Dynamic programming is a strategy used to optimize `memoization`. Here, we solve the subproblems **in the order of dependencies**.\n",
    "\n",
    "The dependency order must be *acyclic*. We anticipate what the memory table would look like, and solve the problem iteratively."
   ]
  },
  {
   "cell_type": "code",
   "execution_count": 2,
   "metadata": {},
   "outputs": [
    {
     "data": {
      "text/plain": [
       "13"
      ]
     },
     "execution_count": 2,
     "metadata": {},
     "output_type": "execute_result"
    }
   ],
   "source": [
    "def fibonacci(n):\n",
    "    fibTable = [0, 1]\n",
    "    for i in range(2, n + 1):\n",
    "        fibTable.append(fibTable[i - 1] + fibTable[i - 2])\n",
    "    return fibTable[n]\n",
    "\n",
    "fibonacci(7)"
   ]
  },
  {
   "cell_type": "markdown",
   "metadata": {},
   "source": [
    "So, memoization looks up the memory table before making a recursive call, meanwhile dynamic programming solves subproblems in their order of dependencies, iteratively. DP is often much more efficient."
   ]
  },
  {
   "cell_type": "markdown",
   "metadata": {},
   "source": [
    "## Grid Paths\n",
    "\n",
    "#### Roads are arranged in a grid. We can only go up or right. How many paths are there from (0, 0) to (m, n) ?\n",
    "\n",
    "- There are m + n segments from (0, 0) to (m, n)\n",
    "- Of those, there are m right moves and n up moves\n",
    "- The total number of paths is `(m + n) C n = (m + n) C m`\n",
    "- If there are `holes`, all paths through a hole should be avoided.\n",
    "- To count all paths going through a hole `(a, b)`, count all paths from `(0, 0)` to `(a, b)` and `(a, b)` to `(m, n)`\n",
    "- i.e. `((a + b) C a) * (((m - a) + (n - b)) C (m - a))`\n",
    "- If there are two intersections, we need to subtract the number of paths going through each path, and then add the number of paths that go through both of the paths\n",
    "- This is known as `inclusion-exclusion`\n",
    "\n",
    "### Inductive Formulation\n",
    "\n",
    "We can reach `(i, j)` by\n",
    "* Moving up from `(i, j - 1)` or\n",
    "* Moving right from `(i - 1, j)`\n",
    "\n",
    "\n",
    "### `paths(i, j) = paths(i - 1, j) + paths(i, j - 1)`\n",
    "\n",
    "* paths(i, j) = 0 if (i, j) is a hole\n",
    "* paths(i, 0) = paths(i - 1, 0) - Bottom Row\n",
    "* paths(0, j) = paths(0, j - 1) - Left Column\n",
    "* paths(0, 0) = 1 - Base Case\n",
    "\n",
    "### Dynamic Programming Solution\n",
    "\n",
    "- Start at (0, 0)\n",
    "- Fill row by row, from the bottom\n",
    "    or \n",
    "- Fill column by column from the left\n",
    "    or\n",
    "- Fill by diagonal\n",
    "\n",
    "Memoization avoid the computation of impossible entries in the path, while DP wastefully computes them. Even though, DP is better. "
   ]
  },
  {
   "cell_type": "markdown",
   "metadata": {},
   "source": [
    "## Longest Common Subword\n",
    "\n",
    "#### Given two words, find the length of the longest common subword.\n",
    "\n",
    "Length of the longest common subword LCW(i, j) at ai and bi is\n",
    "* If ai = bi, LCW(i, j) = 0. Else 1 + LCW(i + 1, j + 1)\n",
    "* Boundary Condition - reached end of a word\n",
    "\n",
    "For two words `u` and `v`, Consider positions 0 to `m` in u and 0 to `n` in v.\n",
    "* If we reach `m`, LCW(m, j) = 0\n",
    "* If we reach `n`, LCW(i, n) = 0\n",
    "* If ai != bi, LCW(i, j) = 0\n",
    "* Else (ai = bi)\n",
    "#### `LCW(i, j) = 1 + LCW(i + 1, j + 1)`"
   ]
  },
  {
   "cell_type": "code",
   "execution_count": 3,
   "metadata": {},
   "outputs": [
    {
     "name": "stdout",
     "output_type": "stream",
     "text": [
      "6\n",
      "4\n"
     ]
    }
   ],
   "source": [
    "def longestCommonSubWord(u, v):\n",
    "    \n",
    "    # Create a table to store the lengths of common substrings.\n",
    "    # The table has dimensions (len(a) + 1) x (len(b) + 1).\n",
    "    m, n = len(u), len(v)\n",
    "    table = [[0] * (n + 1) for _ in range(m + 1)]\n",
    "    \n",
    "    # Initialize the variable to store the length of the longest common substring.\n",
    "    longest = 0\n",
    "    \n",
    "    # Iterate through each character of string 'a'.\n",
    "    for i in range(1, m + 1):\n",
    "        \n",
    "        # Iterate through each character of string 'b'.\n",
    "        for j in range(1, n + 1):\n",
    "            \n",
    "            # If the characters at the current positions in 'a' and 'b' are the same,\n",
    "            # update the length of the common substring in the table.\n",
    "            if u[i - 1] == v[j - 1]:\n",
    "                table[i][j] = table[i - 1][j - 1] + 1\n",
    "                \n",
    "                # Update the length of the longest common substring if necessary.\n",
    "                longest = max(longest, table[i][j])\n",
    "    \n",
    "    return longest\n",
    "\n",
    "a = \"secretary\"\n",
    "b = \"secret\"\n",
    "print(longestCommonSubWord(a, b))\n",
    "c = \"programming\"\n",
    "d = \"gram\"\n",
    "print(longestCommonSubWord(c, d)) \n"
   ]
  },
  {
   "cell_type": "markdown",
   "metadata": {},
   "source": [
    "## Longest Common Subsequence\n",
    "\n",
    "In subsequences, we can skip letters. We form connections starting from the left to right.\n",
    "\n",
    "* If a0 = b0, LCS(u, v) = 1 + LCS(a1...am-1, b1...bn-1)\n",
    "* Else, solve two subproblems: `LCS(a0...am-1, b1...bn-1)` and `LCS(a1...am-1, b0...bn-1)` and take maximum\n",
    "\n",
    "#### Inductive Structure\n",
    "\n",
    "* ai = aj, LCS(i, j) = 1 + LCS(i + 1, j + 1)\n",
    "* ai != aj, LCS(i, j) = max(LCS(i + 1, j), LCS(i, j + 1))\n",
    "* LCS(m + 1, j) = 0, LCS(i, n + 1) = 0"
   ]
  },
  {
   "cell_type": "code",
   "execution_count": 4,
   "metadata": {},
   "outputs": [
    {
     "name": "stdout",
     "output_type": "stream",
     "text": [
      "4\n"
     ]
    }
   ],
   "source": [
    "def longestCommonSubSequence(u, v):\n",
    "    \n",
    "    # Create a table to store the lengths of common substrings.\n",
    "    # The table has dimensions (len(a) + 1) x (len(b) + 1).\n",
    "    m, n = len(u), len(v)\n",
    "    table = [[0] * (n + 1) for _ in range(m + 1)]\n",
    "    \n",
    "    # Initialize the variable to store the length of the longest common substring.\n",
    "    longest = 0\n",
    "    \n",
    "    # Iterate through each character of string 'a'.\n",
    "    for i in range(1, m + 1):\n",
    "        \n",
    "        # Iterate through each character of string 'b'.\n",
    "        for j in range(1, n + 1):\n",
    "            \n",
    "            # If the characters at the current positions in 'a' and 'b' are the same,\n",
    "            # update the length of the common substring in the table.\n",
    "            if u[i - 1] == v[j - 1]:\n",
    "                table[i][j] = table[i - 1][j - 1] + 1\n",
    "                \n",
    "                # Update the length of the longest common substring if necessary.\n",
    "                longest = max(longest, table[i][j])\n",
    "            else:\n",
    "                # If the characters are different, take the maximum length from the previous positions.\n",
    "                table[i][j] = max(table[i - 1][j], table[i][j - 1])\n",
    "                \n",
    "    return longest\n",
    "\n",
    "c = \"bisect\"\n",
    "d = \"secret\"\n",
    "print(longestCommonSubSequence(c, d))"
   ]
  },
  {
   "cell_type": "markdown",
   "metadata": {},
   "source": [
    "## Matrix Multiplication\n",
    "\n",
    "`[m x n] * [n x p] = [m x p]` ~ O(mnp)\n",
    "\n",
    "* In matrix multiplication, ABC = A(BC) = (AB)C (Associative)\n",
    "* Bracketing has dramatic effect in the complexity of computation. For A[1x100] * B[100x1] * C[1*100], A(BC) is `10000 + 10000` steps, meanwhile (AB)C is `100 + 100` steps.\n",
    "\n",
    "Given matrices M1, M2, ... Mn of dimensions [r1, c1], [r2, c2]... [rn, cn] (matching dimensions: ci = r(i+1)), we need to find the optimal way of computing the product - putting brackets in the expression.\n"
   ]
  },
  {
   "cell_type": "code",
   "execution_count": 14,
   "metadata": {},
   "outputs": [
    {
     "name": "stdout",
     "output_type": "stream",
     "text": [
      "[[58, 64], [139, 154]]\n"
     ]
    }
   ],
   "source": [
    "# Matrix Multiplication\n",
    "def matrixMultiplication(A, B):\n",
    "    # Get the dimensions of the matrices.\n",
    "    m, n, p = len(A), len(A[0]), len(B[0])\n",
    "    product = [[0] * p for _ in range(m)]\n",
    "    \n",
    "    # Iterate through each row of the first matrix.\n",
    "    for i in range(m):\n",
    "        # Iterate through each column of the second matrix.\n",
    "        for j in range(p):\n",
    "            # Iterate through each element of the row and column.\n",
    "            for k in range(n):\n",
    "                # Update the result in the table.\n",
    "                product[i][j] += A[i][k] * B[k][j]\n",
    "    \n",
    "    return product\n",
    "\n",
    "\n",
    "A = [[1, 2, 3], [4, 5, 6]]\n",
    "B = [[7, 8], [9, 10], [11, 12]]\n",
    "result = matrixMultiplication(A, B)\n",
    "print(result)"
   ]
  },
  {
   "cell_type": "markdown",
   "metadata": {},
   "source": [
    "### Inductive Structure\n",
    "\n",
    "`Cost(M1 x M2 x ... x Mn) = min([Cost(M1 x M2 x ... x Mk) + Cost(Mk+1 + ... + Mn) for k from 1 to n])`\n",
    "\n",
    "`Cost(i, j) = Cost(Mi x Mi+1 x ... x Mj) = min([Cost(Mi x Mi+1 x ... x Mk) + Cost(Mk+1 + ... + Mj) + r1ckcj for k from i to j])`\n",
    "\n",
    "* Cost(i, i) = 0\n",
    "* `Cost(i, j) = min([Cost(i, k) + Cost(k + 1, j) + rickcj for k from i to j])`\n",
    "* Cost is only needed when i <= j\n",
    "\n",
    "The time complexity is `O(n3)` just to fill a table of size n2."
   ]
  },
  {
   "cell_type": "markdown",
   "metadata": {},
   "source": [
    "# Assignment: Longest Palindrome"
   ]
  },
  {
   "cell_type": "code",
   "execution_count": 17,
   "metadata": {},
   "outputs": [
    {
     "name": "stdout",
     "output_type": "stream",
     "text": [
      "Palindrome\n"
     ]
    }
   ],
   "source": [
    "# Check if a string is a palindrome\n",
    "word = \"malayalam\"\n",
    "\n",
    "for i in range(len(word)):\n",
    "    if word[i] != word[len(word) - i - 1]:\n",
    "        print(\"Not a palindrome\")\n",
    "        break\n",
    "else:\n",
    "    print(\"Palindrome\")"
   ]
  },
  {
   "cell_type": "markdown",
   "metadata": {},
   "source": [
    "### Brute Force"
   ]
  },
  {
   "cell_type": "code",
   "execution_count": 26,
   "metadata": {},
   "outputs": [
    {
     "name": "stdout",
     "output_type": "stream",
     "text": [
      "5\n",
      "abbba\n"
     ]
    }
   ],
   "source": [
    "# Find the longest palindrome in a string\n",
    "\n",
    "# n = int(input())\n",
    "# s = input()\n",
    "\n",
    "def longestPalindrome(s, n):\n",
    "    longest = \"\"\n",
    "    for i in range(n):\n",
    "        for j in range(i, n):\n",
    "            substring = s[i:j + 1]\n",
    "            if substring == substring[::-1] and len(substring) > len(longest):\n",
    "                longest = substring\n",
    "    print(len(longest))\n",
    "    print(longest)\n",
    "\n",
    "s = \"abbba\"\n",
    "n = 5\n",
    "longestPalindrome(s, n)"
   ]
  },
  {
   "cell_type": "markdown",
   "metadata": {},
   "source": [
    "### Dynamic Programming"
   ]
  },
  {
   "cell_type": "code",
   "execution_count": 27,
   "metadata": {},
   "outputs": [
    {
     "name": "stdout",
     "output_type": "stream",
     "text": [
      "5\n",
      "abbba\n"
     ]
    }
   ],
   "source": [
    "\n",
    "\n",
    "s = \"abbba\"\n",
    "n = 5\n",
    "longestPalindrome(s, n)"
   ]
  }
 ],
 "metadata": {
  "kernelspec": {
   "display_name": "Python 3",
   "language": "python",
   "name": "python3"
  },
  "language_info": {
   "codemirror_mode": {
    "name": "ipython",
    "version": 3
   },
   "file_extension": ".py",
   "mimetype": "text/x-python",
   "name": "python",
   "nbconvert_exporter": "python",
   "pygments_lexer": "ipython3",
   "version": "3.11.3"
  }
 },
 "nbformat": 4,
 "nbformat_minor": 2
}
