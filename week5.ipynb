{
 "cells": [
  {
   "cell_type": "markdown",
   "metadata": {},
   "source": [
    "# Exceptions\n",
    "\n",
    "Exceptions are predictable errors. We need a contingency plan to deal with the exception. This is known as `Exception Handling`.\n",
    "\n",
    "### Types of Errors\n",
    "1. SyntaxError\n",
    "2. Runtime Errors: Errors that happen during execution.\n",
    "    1. NameError: Using a name before defining\n",
    "    2. ZeroDivisionError: Division by zero\n",
    "    3. IndexError: Accessing invalid index\n",
    "\n",
    "\n",
    "> Runtime Errors in python consists of *Error type*, with *diagnostic information*.\n",
    "\n",
    "If an exception is unhandled, the execution is aborted.\n",
    "\n",
    "The syntax of exceptions are\n",
    "```\n",
    "    try:\n",
    "        ...\n",
    "    except ErrorType:\n",
    "        ...\n",
    "    except ErrorType:\n",
    "        ...\n",
    "    except:\n",
    "        ...\n",
    "    else:\n",
    "        ...\n",
    "```\n",
    "\n",
    "The `except` statements are checked one-by-one. We can catch more than one exceptions by putting them in a tuple. We can have an `else`, to execute statements if the *try* executed normally."
   ]
  },
  {
   "cell_type": "code",
   "execution_count": 1,
   "metadata": {},
   "outputs": [],
   "source": [
    "scores = {'Alice': [50, 42], 'Bob': [99, 100], 'Cathy': [87, 88]}\n",
    "\n",
    "player, score = \"Harry\", 50\n",
    "\n",
    "# Tradional Approach\n",
    "if player in scores:\n",
    "    scores[player].append(score)\n",
    "else:\n",
    "    scores[player] = [score]\n",
    "    \n",
    "# Using exceptions\n",
    "try:\n",
    "    scores[player].append(score)\n",
    "except KeyError:\n",
    "    scores[player] = [score]"
   ]
  },
  {
   "cell_type": "markdown",
   "metadata": {},
   "source": [
    "# Standard Input / Output\n",
    "\n",
    "Reading data from the user / Displaying data back to the user.\n",
    "\n",
    "### Read a line of input\n",
    "\n",
    "`userdata = input(\"Prompt: \")`\n",
    "\n",
    "Input is always a string and we need to convert as required.\n",
    "\n",
    "### Print statements\n",
    "\n",
    "`print(values...)`\n",
    "\n",
    "By default, each `print` appears on a new line. We can control this using `end`. Items are separated by space by default. We can control the separator using `sep`."
   ]
  },
  {
   "cell_type": "code",
   "execution_count": 5,
   "metadata": {},
   "outputs": [
    {
     "name": "stdout",
     "output_type": "stream",
     "text": [
      "You must enter an integer\n",
      "2\n"
     ]
    }
   ],
   "source": [
    "while True:\n",
    "    try:\n",
    "        age = int(input(\"Enter your age: \"))\n",
    "    except ValueError:\n",
    "        print(\"You must enter an integer\")\n",
    "    else:\n",
    "        print(age)\n",
    "        break"
   ]
  },
  {
   "cell_type": "markdown",
   "metadata": {},
   "source": [
    "# Files\n",
    "\n",
    "We can read / write files on the disk using python. We open a file by creating a **file handle** to a file on the disk. Read and write operations are done to the file handle. When we close a file, the buffer (a temporary space for the disk data) is written to the disk (`flush`) and the file handle is disconnected. \n",
    "\n",
    "### Opening a file\n",
    "\n",
    "`f = open(\"path/to/file\", \"mode\")`\n",
    " \n",
    "Some file opening modes include \n",
    "1. Read, `r`\n",
    "2. Write, `w`\n",
    "3. Append, `a`\n",
    "\n",
    "### Reading a file\n",
    "\n",
    "* `read()` function reads the entire file into a variable as a single string.\n",
    "> contents = f.read()\n",
    "* `readline()` reads an entire line (including '\\n') into a name\n",
    "> contents = f.readline()\n",
    "* `readlines()` reads the entire files as a list of strings (keeping the '\\n').\n",
    "\n",
    "Note that every successive readline() moves the read pointer forward. We can move back to the initial position using `seek()`.\n",
    "\n",
    "* We can read a fixed number of characters using `read(no_of_chars)`\n",
    "* If we reach the end of a file, these functions return an empty string.\n",
    "\n",
    "### Writing to a file\n",
    "\n",
    "* `write(something)` writes something to a file. It also returns the number of characters written.\n",
    "* `writelines(lines)` takes a list of strings and write them into the file.\n",
    "* Both of these functions require us to include `\\n` explicitly.\n",
    "\n",
    "### Close a file\n",
    "\n",
    "* `close()` flushes the output buffer and decouples the file handle\n",
    "* `flush()` manually flushes the data into the disk.\n"
   ]
  },
  {
   "cell_type": "markdown",
   "metadata": {},
   "source": [
    "# String Functions\n",
    "\n",
    "- `s.rstrip()`, `s.lstrip()`, `s.strip()` - remove whitespaces.\n",
    "- `s.find(pattern)` - returns the position in s where a pattern occur (`s.find(pattern, start, end)`)\n",
    "- `s.index(pattern)` - returns the position in s where a pattern occur\n",
    "> If a pattern is not found, find returns -1, where index returns an error.\n",
    "\n",
    "- `s.replace(fromstr, tostr)` replaces each occurence of `fromstr` with `tostr`. Optionally, we can give an additional argument `n` to replace atmost n occurences.\n",
    "- `s.split(str)` splits a string into a list of strings at every occurence of `str`. To split into atmost `n` chunks, do `s.split(str, n)`\n",
    "- `joinstring.join(list_of_strings)` joins a list of strings into a single string, using joinstring as the joining element.\n",
    "- `s.capitalize`, `s.lower()`, `s.upper()`, `s.swapcase()` etc.\n",
    "- `s.center(n, character)` centers a string of n characters by inserting `character` on both sides.\n",
    "- `s.isalpha()`, `s.isnumeric()` etc."
   ]
  },
  {
   "cell_type": "code",
   "execution_count": 10,
   "metadata": {},
   "outputs": [
    {
     "name": "stdout",
     "output_type": "stream",
     "text": [
      "Hello, world   \n",
      "    Hello, world\n",
      "Hello, world\n"
     ]
    }
   ],
   "source": [
    "s = \"    Hello, world   \\n\"\n",
    "\n",
    "print(s.lstrip(), end=\"\")\n",
    "print(s.rstrip())\n",
    "print(s.strip())"
   ]
  },
  {
   "cell_type": "code",
   "execution_count": 12,
   "metadata": {},
   "outputs": [
    {
     "name": "stdout",
     "output_type": "stream",
     "text": [
      "['Hello', ' world']\n"
     ]
    },
    {
     "data": {
      "text/plain": [
       "'foobarbaz'"
      ]
     },
     "execution_count": 12,
     "metadata": {},
     "output_type": "execute_result"
    }
   ],
   "source": [
    "s = \"Hello, world\"\n",
    "print(s.split(\",\"))\n",
    "l = [\"foo\", \"bar\", \"baz\"]\n",
    "\"\".join(l)"
   ]
  },
  {
   "cell_type": "code",
   "execution_count": 14,
   "metadata": {},
   "outputs": [
    {
     "name": "stdout",
     "output_type": "stream",
     "text": [
      "*******************Hello, world*******************\n"
     ]
    }
   ],
   "source": [
    "s = \"Hello, world\"\n",
    "print(s.center(50, \"*\"))"
   ]
  },
  {
   "cell_type": "markdown",
   "metadata": {},
   "source": [
    "# Formatted Printing\n",
    "\n",
    "### format() method\n",
    "\n",
    "Replacing arguments by their position in a format string.\n",
    "\n",
    "    {0:[width].[decimal_points][datatype]}"
   ]
  },
  {
   "cell_type": "code",
   "execution_count": 24,
   "metadata": {},
   "outputs": [
    {
     "name": "stdout",
     "output_type": "stream",
     "text": [
      "first: 47, second: 11\n",
      "first: 47, second: 11\n",
      "value:   3\n",
      "value: 0.333\n"
     ]
    }
   ],
   "source": [
    "print(\"first: {}, second: {}\".format(47, 11))\n",
    "print(\"first: {a}, second: {b}\".format(b=11, a=47))\n",
    "print(\"value: {0:3d}\".format(3))\n",
    "print(\"value: {0:.3f}\".format(1/3))\n"
   ]
  },
  {
   "cell_type": "markdown",
   "metadata": {},
   "source": []
  },
  {
   "cell_type": "markdown",
   "metadata": {},
   "source": []
  },
  {
   "cell_type": "markdown",
   "metadata": {},
   "source": []
  }
 ],
 "metadata": {
  "kernelspec": {
   "display_name": "Python 3",
   "language": "python",
   "name": "python3"
  },
  "language_info": {
   "codemirror_mode": {
    "name": "ipython",
    "version": 3
   },
   "file_extension": ".py",
   "mimetype": "text/x-python",
   "name": "python",
   "nbconvert_exporter": "python",
   "pygments_lexer": "ipython3",
   "version": "3.11.3"
  }
 },
 "nbformat": 4,
 "nbformat_minor": 2
}
