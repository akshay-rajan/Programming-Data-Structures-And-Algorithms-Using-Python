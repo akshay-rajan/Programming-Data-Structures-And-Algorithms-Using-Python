{
 "cells": [
  {
   "cell_type": "markdown",
   "metadata": {},
   "source": [
    "# Exceptions\n",
    "\n",
    "Exceptions are predictable errors. We need a contingency plan to deal with the exception. This is known as `Exception Handling`.\n",
    "\n",
    "### Types of Errors\n",
    "1. SyntaxError\n",
    "2. Runtime Errors: Errors that happen during execution.\n",
    "    1. NameError: Using a name before defining\n",
    "    2. ZeroDivisionError: Division by zero\n",
    "    3. IndexError: Accessing invalid index\n",
    "\n",
    "\n",
    "> Runtime Errors in python consists of *Error type*, with *diagnostic information*.\n",
    "\n",
    "If an exception is unhandled, the execution is aborted.\n",
    "\n",
    "The syntax of exceptions are\n",
    "```\n",
    "    try:\n",
    "        ...\n",
    "    except ErrorType:\n",
    "        ...\n",
    "    except ErrorType:\n",
    "        ...\n",
    "    except:\n",
    "        ...\n",
    "    else:\n",
    "        ...\n",
    "```\n",
    "\n",
    "The `except` statements are checked one-by-one. We can catch more than one exceptions by putting them in a tuple. We can have an `else`, to execute statements if the *try* executed normally."
   ]
  },
  {
   "cell_type": "code",
   "execution_count": 1,
   "metadata": {},
   "outputs": [],
   "source": [
    "scores = {'Alice': [50, 42], 'Bob': [99, 100], 'Cathy': [87, 88]}\n",
    "\n",
    "player, score = \"Harry\", 50\n",
    "\n",
    "# Tradional Approach\n",
    "if player in scores:\n",
    "    scores[player].append(score)\n",
    "else:\n",
    "    scores[player] = [score]\n",
    "    \n",
    "# Using exceptions\n",
    "try:\n",
    "    scores[player].append(score)\n",
    "except KeyError:\n",
    "    scores[player] = [score]"
   ]
  },
  {
   "cell_type": "markdown",
   "metadata": {},
   "source": [
    "# Standard Input / Output\n",
    "\n",
    "Reading data from the user / Displaying data back to the user.\n",
    "\n",
    "### Read a line of input\n",
    "\n",
    "`userdata = input(\"Prompt: \")`\n",
    "\n",
    "Input is always a string and we need to convert as required.\n",
    "\n",
    "### Print statements\n",
    "\n",
    "`print(values...)`\n",
    "\n",
    "By default, each `print` appears on a new line. We can control this using `end`. Items are separated by space by default. We can control the separator using `sep`."
   ]
  },
  {
   "cell_type": "code",
   "execution_count": 5,
   "metadata": {},
   "outputs": [
    {
     "name": "stdout",
     "output_type": "stream",
     "text": [
      "You must enter an integer\n",
      "2\n"
     ]
    }
   ],
   "source": [
    "while True:\n",
    "    try:\n",
    "        age = int(input(\"Enter your age: \"))\n",
    "    except ValueError:\n",
    "        print(\"You must enter an integer\")\n",
    "    else:\n",
    "        print(age)\n",
    "        break"
   ]
  },
  {
   "cell_type": "markdown",
   "metadata": {},
   "source": [
    "# Files\n",
    "\n",
    "We can read / write files on the disk using python. We open a file by creating a **file handle** to a file on the disk. Read and write operations are done to the file handle. When we close a file, the buffer (a temporary space for the disk data) is written to the disk (`flush`) and the file handle is disconnected. \n",
    "\n",
    "### Opening a file\n",
    "\n",
    "`f = open(\"path/to/file\", \"mode\")`\n",
    " \n",
    "Some file opening modes include \n",
    "1. Read, `r`\n",
    "2. Write, `w`\n",
    "3. Append, `a`\n",
    "\n",
    "### Reading a file\n",
    "\n",
    "* `read()` function reads the entire file into a variable as a single string.\n",
    "> contents = f.read()\n",
    "* `readline()` reads an entire line (including '\\n') into a name\n",
    "> contents = f.readline()\n",
    "* `readlines()` reads the entire files as a list of strings (keeping the '\\n').\n",
    "\n",
    "Note that every successive readline() moves the read pointer forward. We can move back to the initial position using `seek()`.\n",
    "\n",
    "* We can read a fixed number of characters using `read(no_of_chars)`\n",
    "* If we reach the end of a file, these functions return an empty string.\n",
    "\n",
    "### Writing to a file\n",
    "\n",
    "* `write(something)` writes something to a file. It also returns the number of characters written.\n",
    "* `writelines(lines)` takes a list of strings and write them into the file.\n",
    "* Both of these functions require us to include `\\n` explicitly.\n",
    "\n",
    "### Close a file\n",
    "\n",
    "* `close()` flushes the output buffer and decouples the file handle\n",
    "* `flush()` manually flushes the data into the disk.\n"
   ]
  },
  {
   "cell_type": "markdown",
   "metadata": {},
   "source": [
    "# String Functions\n",
    "\n",
    "- `s.rstrip()`, `s.lstrip()`, `s.strip()` - remove whitespaces.\n",
    "- `s.find(pattern)` - returns the position in s where a pattern occur (`s.find(pattern, start, end)`)\n",
    "- `s.index(pattern)` - returns the position in s where a pattern occur\n",
    "> If a pattern is not found, find returns -1, where index returns an error.\n",
    "\n",
    "- `s.replace(fromstr, tostr)` replaces each occurence of `fromstr` with `tostr`. Optionally, we can give an additional argument `n` to replace atmost n occurences.\n",
    "- `s.split(str)` splits a string into a list of strings at every occurence of `str`. To split into atmost `n` chunks, do `s.split(str, n)`\n",
    "- `joinstring.join(list_of_strings)` joins a list of strings into a single string, using joinstring as the joining element.\n",
    "- `s.capitalize`, `s.lower()`, `s.upper()`, `s.swapcase()` etc.\n",
    "- `s.center(n, character)` centers a string of n characters by inserting `character` on both sides.\n",
    "- `s.isalpha()`, `s.isnumeric()` etc."
   ]
  },
  {
   "cell_type": "code",
   "execution_count": 10,
   "metadata": {},
   "outputs": [
    {
     "name": "stdout",
     "output_type": "stream",
     "text": [
      "Hello, world   \n",
      "    Hello, world\n",
      "Hello, world\n"
     ]
    }
   ],
   "source": [
    "s = \"    Hello, world   \\n\"\n",
    "\n",
    "print(s.lstrip(), end=\"\")\n",
    "print(s.rstrip())\n",
    "print(s.strip())"
   ]
  },
  {
   "cell_type": "code",
   "execution_count": 12,
   "metadata": {},
   "outputs": [
    {
     "name": "stdout",
     "output_type": "stream",
     "text": [
      "['Hello', ' world']\n"
     ]
    },
    {
     "data": {
      "text/plain": [
       "'foobarbaz'"
      ]
     },
     "execution_count": 12,
     "metadata": {},
     "output_type": "execute_result"
    }
   ],
   "source": [
    "s = \"Hello, world\"\n",
    "print(s.split(\",\"))\n",
    "l = [\"foo\", \"bar\", \"baz\"]\n",
    "\"\".join(l)"
   ]
  },
  {
   "cell_type": "code",
   "execution_count": 14,
   "metadata": {},
   "outputs": [
    {
     "name": "stdout",
     "output_type": "stream",
     "text": [
      "*******************Hello, world*******************\n"
     ]
    }
   ],
   "source": [
    "s = \"Hello, world\"\n",
    "print(s.center(50, \"*\"))"
   ]
  },
  {
   "cell_type": "markdown",
   "metadata": {},
   "source": [
    "# Formatted Printing\n",
    "\n",
    "### format() method\n",
    "\n",
    "Replacing arguments by their position in a format string.\n",
    "\n",
    "    {0:[width].[decimal_points][datatype]}"
   ]
  },
  {
   "cell_type": "code",
   "execution_count": 25,
   "metadata": {},
   "outputs": [
    {
     "name": "stdout",
     "output_type": "stream",
     "text": [
      "first: 47, second: 11\n",
      "first: 47, second: 11\n",
      "value:   3\n",
      "value: 0.333\n"
     ]
    }
   ],
   "source": [
    "print(\"first: {}, second: {}\".format(47, 11))\n",
    "print(\"first: {a}, second: {b}\".format(b=11, a=47))\n",
    "print(\"value: {0:3d}\".format(3))\n",
    "print(\"value: {0:.3f}\".format(1/3))\n"
   ]
  },
  {
   "cell_type": "markdown",
   "metadata": {},
   "source": [
    "### pass\n",
    "\n",
    "`pass` exists only to fill up spaces that cannot be left empty.\n",
    "\n",
    "### del()\n",
    "\n",
    "`del(list[index])` removes the first occurence of the element from the list.\n",
    "`del(dict[key])` removes the corresponding key and value.\n",
    "\n",
    "### None\n",
    "\n",
    "None is a special value used to denote nothing. It is typically used to initialize a name."
   ]
  },
  {
   "cell_type": "markdown",
   "metadata": {},
   "source": [
    "# Assignment\n"
   ]
  },
  {
   "cell_type": "code",
   "execution_count": 71,
   "metadata": {},
   "outputs": [
    {
     "name": "stdout",
     "output_type": "stream",
     "text": [
      "Zverev Alcaraz\n",
      "2-6 Alcaraz Zverev\n",
      "6-7 Alcaraz Zverev\n",
      "7-6 Zverev Alcaraz\n",
      "6-3 Zverev Alcaraz\n",
      "6-1 Zverev Alcaraz\n",
      "{'Zverev': [1, 0, 3, 19, 2, 13], 'Alcaraz': [0, 0, 2, 8, 3, 10]} \n",
      "\n",
      "Swiatek Jabeur\n",
      "6-4 Swiatek Jabeur\n",
      "6-4 Swiatek Jabeur\n",
      "{'Zverev': [1, 0, 3, 19, 2, 13], 'Alcaraz': [0, 0, 2, 8, 3, 10], 'Swiatek': [0, 1, 2, 12, 0, 0], 'Jabeur': [0, 0, 0, 0, 2, 8]} \n",
      "\n",
      "Alcaraz Zverev\n",
      "6-3 Alcaraz Zverev\n",
      "6-3 Alcaraz Zverev\n",
      "{'Zverev': [1, 0, 3, 19, 4, 19], 'Alcaraz': [0, 1, 4, 20, 3, 10], 'Swiatek': [0, 1, 2, 12, 0, 0], 'Jabeur': [0, 0, 0, 0, 2, 8]} \n",
      "\n",
      "Jabeur Swiatek\n",
      "1-6 Swiatek Jabeur\n",
      "7-5 Jabeur Swiatek\n",
      "6-2 Jabeur Swiatek\n",
      "{'Zverev': [1, 0, 3, 19, 4, 19], 'Alcaraz': [0, 1, 4, 20, 3, 10], 'Swiatek': [0, 1, 3, 13, 2, 7], 'Jabeur': [0, 1, 2, 13, 3, 14]} \n",
      "\n",
      "Zverev Alcaraz\n",
      "6-0 Zverev Alcaraz\n",
      "7-6 Zverev Alcaraz\n",
      "6-3 Zverev Alcaraz\n",
      "{'Zverev': [1, 1, 6, 38, 4, 19], 'Alcaraz': [0, 1, 4, 20, 6, 19], 'Swiatek': [0, 1, 3, 13, 2, 7], 'Jabeur': [0, 1, 2, 13, 3, 14]} \n",
      "\n",
      "Jabeur Swiatek\n",
      "2-6 Swiatek Jabeur\n",
      "6-2 Jabeur Swiatek\n",
      "6-0 Jabeur Swiatek\n",
      "{'Zverev': [1, 1, 6, 38, 4, 19], 'Alcaraz': [0, 1, 4, 20, 6, 19], 'Swiatek': [0, 1, 4, 15, 4, 9], 'Jabeur': [0, 2, 4, 25, 4, 20]} \n",
      "\n",
      "Alcaraz Zverev\n",
      "6-3 Alcaraz Zverev\n",
      "4-6 Zverev Alcaraz\n",
      "6-3 Alcaraz Zverev\n",
      "6-4 Alcaraz Zverev\n",
      "{'Zverev': [1, 1, 7, 42, 7, 29], 'Alcaraz': [1, 1, 7, 38, 7, 25], 'Swiatek': [0, 1, 4, 15, 4, 9], 'Jabeur': [0, 2, 4, 25, 4, 20]} \n",
      "\n",
      "Swiatek Jabeur\n",
      "6-1 Swiatek Jabeur\n",
      "3-6 Jabeur Swiatek\n",
      "7-5 Swiatek Jabeur\n",
      "{'Zverev': [1, 1, 7, 42, 7, 29], 'Alcaraz': [1, 1, 7, 38, 7, 25], 'Swiatek': [0, 2, 6, 28, 5, 15], 'Jabeur': [0, 2, 5, 28, 6, 26]} \n",
      "\n",
      "Zverev Alcaraz\n",
      "7-6 Zverev Alcaraz\n",
      "4-6 Alcaraz Zverev\n",
      "7-6 Zverev Alcaraz\n",
      "2-6 Alcaraz Zverev\n",
      "6-2 Zverev Alcaraz\n",
      "{'Zverev': [2, 1, 10, 62, 9, 41], 'Alcaraz': [1, 1, 9, 44, 10, 39], 'Swiatek': [0, 2, 6, 28, 5, 15], 'Jabeur': [0, 2, 5, 28, 6, 26]} \n",
      "\n",
      "Jabeur Swiatek\n",
      "6-4 Jabeur Swiatek\n",
      "1-6 Swiatek Jabeur\n",
      "6-3 Jabeur Swiatek\n",
      "{'Zverev': [2, 1, 10, 62, 9, 41], 'Alcaraz': [1, 1, 9, 44, 10, 39], 'Swiatek': [0, 2, 7, 29, 7, 22], 'Jabeur': [0, 3, 7, 40, 7, 32]} \n",
      "\n",
      "Alcaraz Zverev\n",
      "7-5 Alcaraz Zverev\n",
      "7-5 Alcaraz Zverev\n",
      "{'Zverev': [2, 1, 10, 62, 11, 51], 'Alcaraz': [1, 2, 11, 58, 10, 39], 'Swiatek': [0, 2, 7, 29, 7, 22], 'Jabeur': [0, 3, 7, 40, 7, 32]} \n",
      "\n",
      "Jabeur Swiatek\n",
      "3-6 Swiatek Jabeur\n",
      "6-3 Jabeur Swiatek\n",
      "6-3 Jabeur Swiatek\n",
      "{'Zverev': [2, 1, 10, 62, 11, 51], 'Alcaraz': [1, 2, 11, 58, 10, 39], 'Swiatek': [0, 2, 8, 32, 9, 28], 'Jabeur': [0, 4, 9, 52, 8, 38]} \n",
      "\n"
     ]
    }
   ],
   "source": [
    "import math\n",
    "\n",
    "# matches = []\n",
    "# try:\n",
    "#     while True:\n",
    "#         inp = input()\n",
    "#         matches.append(inp)\n",
    "# except EOFError:\n",
    "#     pass\n",
    "# matches = matches[:-1]\n",
    "\n",
    "matches = [\n",
    "    \"Zverev:Alcaraz:2-6,6-7,7-6,6-3,6-1\",\n",
    "    \"Swiatek:Jabeur:6-4,6-4\",\n",
    "    \"Alcaraz:Zverev:6-3,6-3\",\n",
    "    \"Jabeur:Swiatek:1-6,7-5,6-2\",\n",
    "    \"Zverev:Alcaraz:6-0,7-6,6-3\",\n",
    "    \"Jabeur:Swiatek:2-6,6-2,6-0\",\n",
    "    \"Alcaraz:Zverev:6-3,4-6,6-3,6-4\",\n",
    "    \"Swiatek:Jabeur:6-1,3-6,7-5\",\n",
    "    \"Zverev:Alcaraz:7-6,4-6,7-6,2-6,6-2\",\n",
    "    \"Jabeur:Swiatek:6-4,1-6,6-3\",\n",
    "    \"Alcaraz:Zverev:7-5,7-5\",\n",
    "    \"Jabeur:Swiatek:3-6,6-3,6-3\"\n",
    "]\n",
    "\n",
    "players = {}\n",
    "for match in matches:\n",
    "    match = match.split(\":\")\n",
    "    winner, loser, scores = tuple(match)\n",
    "    scores = scores.split(\",\")\n",
    "    \n",
    "    for player in [winner, loser]:\n",
    "        if player not in players:\n",
    "            players[player] = [0] * 6\n",
    "            \n",
    "    # Number of best-of-5 set matches won\n",
    "    if len(scores) > 3:\n",
    "        players[winner][0] += 1\n",
    "    # Number of best-of-3 set matches won\n",
    "    else:\n",
    "        players[winner][1] += 1\n",
    "    \n",
    "    print(winner, loser)\n",
    "    for score in scores:\n",
    "        # Update sets won, games won, sets lost, and games lost\n",
    "        game_winner, game_loser = (winner, loser) if int(score[0]) > int(score[2]) else (loser, winner)\n",
    "        players[game_winner][2] += 1\n",
    "        players[game_winner][3] += int(score[0])\n",
    "        players[game_loser][4] += 1\n",
    "        players[game_loser][5] += int(score[2])\n",
    "        \n",
    "        print(score, game_winner, game_loser)\n",
    "        \n",
    "    print(players, \"\\n\")\n"
   ]
  },
  {
   "cell_type": "code",
   "execution_count": 113,
   "metadata": {},
   "outputs": [
    {
     "name": "stdout",
     "output_type": "stream",
     "text": [
      "Zverev 3 0 10 101 11 109\n",
      "Alcaraz 1 2 11 109 10 101\n",
      "Jabeur 0 4 9 80 8 70\n",
      "Swiatek 0 2 8 70 9 80\n"
     ]
    }
   ],
   "source": [
    "matches = [\n",
    "    \"Zverev:Alcaraz:2-6,6-7,7-6,6-3,6-1\",\n",
    "    \"Swiatek:Jabeur:6-4,6-4\",\n",
    "    \"Alcaraz:Zverev:6-3,6-3\",\n",
    "    \"Jabeur:Swiatek:1-6,7-5,6-2\",\n",
    "    \"Zverev:Alcaraz:6-0,7-6,6-3\",\n",
    "    \"Jabeur:Swiatek:2-6,6-2,6-0\",\n",
    "    \"Alcaraz:Zverev:6-3,4-6,6-3,6-4\",\n",
    "    \"Swiatek:Jabeur:6-1,3-6,7-5\",\n",
    "    \"Zverev:Alcaraz:7-6,4-6,7-6,2-6,6-2\",\n",
    "    \"Jabeur:Swiatek:6-4,1-6,6-3\",\n",
    "    \"Alcaraz:Zverev:7-5,7-5\",\n",
    "    \"Jabeur:Swiatek:3-6,6-3,6-3\"\n",
    "]\n",
    "\n",
    "players = {}\n",
    "# * For each match\n",
    "for match in matches:\n",
    "    match = match.split(\":\")\n",
    "    winner, loser, scores = tuple(match)\n",
    "    scores = scores.split(\",\")\n",
    "    \n",
    "    for player in [winner, loser]:\n",
    "        if player not in players:\n",
    "            players[player] = [0] * 6\n",
    "            \n",
    "    \n",
    "    winner_set_count = 0\n",
    "    # * For each set in the match\n",
    "    for score in scores:\n",
    "        game_winner, game_loser = (winner, loser) if int(score[0]) > int(score[2]) else (loser, winner)\n",
    "        # Count the number of sets won by the winner of the match\n",
    "        if game_winner == winner:\n",
    "            winner_set_count += 1\n",
    "        # Update sets won, sets lost, games won and games lost of both players\n",
    "        players[game_winner][2] += 1\n",
    "        players[game_loser][4] += 1\n",
    "        players[game_winner][3] += int(score[0])\n",
    "        players[game_loser][5] += int(score[0])\n",
    "        players[game_winner][3] += int(score[2])\n",
    "        players[game_loser][5] += int(score[2])\n",
    "\n",
    "    # Number of best-of-5 set matches won\n",
    "    if winner_set_count == 3:\n",
    "        players[winner][0] += 1\n",
    "    # Number of best-of-3 set matches won\n",
    "    else:\n",
    "        players[winner][1] += 1\n",
    "\n",
    "# * Display\n",
    "def sort(item):\n",
    "    player, stats = item\n",
    "    return (-stats[0], -stats[1], -stats[2], -stats[3], stats[4], stats[5])\n",
    "\n",
    "for player, stats in sorted(tuple(players.items()), key=sort):\n",
    "    stats = \" \".join([str(s) for s in stats])\n",
    "    print(f\"{player} {stats}\")\n"
   ]
  }
 ],
 "metadata": {
  "kernelspec": {
   "display_name": "Python 3",
   "language": "python",
   "name": "python3"
  },
  "language_info": {
   "codemirror_mode": {
    "name": "ipython",
    "version": 3
   },
   "file_extension": ".py",
   "mimetype": "text/x-python",
   "name": "python",
   "nbconvert_exporter": "python",
   "pygments_lexer": "ipython3",
   "version": "3.11.3"
  }
 },
 "nbformat": 4,
 "nbformat_minor": 2
}
