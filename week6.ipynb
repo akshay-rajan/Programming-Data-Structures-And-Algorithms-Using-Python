{
 "cells": [
  {
   "cell_type": "markdown",
   "metadata": {},
   "source": [
    "# Backtracking\n",
    "\n",
    "Backtracking means undoing the last step and trying another possiblility when we hit a dead end.\n",
    "\n",
    "## n Queens Problem\n",
    "\n",
    "> Place 8 Queens on a chessboard so that none of them attack each other.\n",
    "\n",
    "n Queens problem asks us to place `n` queens on an `n x n` chess board.\n",
    "\n",
    "n = 2, 3 is impossible.\n",
    "\n",
    "### 8 Queens Problem\n",
    "\n",
    "1. We can place queens row by row (only one per column). \n",
    "2. But we can only place 7 queens\n",
    "3. So backtrack to 5th queen and try the next pattern for the 5th queen.\n",
    "4. Backtrack again...\n",
    "\n",
    "Backtracking means exhaustively searching through all possible solutions systematically.\n",
    "\n",
    "### Coding the problem\n",
    "\n",
    "* We can use an `n x n` grid to represent the board where `board[i][j] = 1` represents queen at `(i, j)`. \n",
    "* Since there is only one queen per row, we can keep track of the queens by `board[i] = j` meaning queen at the `i`th row is at `j`th column.\n",
    "* We can keep track of the earliest queen that attacks each square. `attack[i][j] = k` if `(i, j)` was attacked first by queen `k`.\n",
    "* When we remove a queen, reset the attack `attack[i][j] = k` to `-1`\n",
    "* An individual square `(i, j)` could be attacked by upto 4 queens - One queen through each **diagonal** through `(i, j)`.    \n",
    "* We can number the diagonals to keep track of the queen that attacks a square.\n",
    "* In the decreasing diagonal, col - row is invariant. But in the increasing diagonal, col + row is invariant.\n",
    "* (i, j) is attacked if either row i, or column j, or diagonal i + j or the diagonal j - i is attacked.\n",
    "* (i, j) is free if \n",
    "    `row[i] = col[j] = NWtoSE[j - i] = SWtoNE[i + j] = 0`\n",
    "* Adding queen at (i, j),\n",
    "    `board[i] = j; row[i] = col[j] = NWtoSE[j - i] = SWtoNE[i + j] = 1`\n",
    "* Removing queen at (i, j),\n",
    "    `board[i] = -1; row[i] = col[j] = NWtoSE[j - i] = SWtoNE[i + j] = 0`\n",
    "* We can maintain the board as a `dictionary`. \n",
    "    \n",
    "        board['queen'][i] = j (Queen at (i, j)); board['row'][i] = 1 (Row i attacked);...\n"
   ]
  },
  {
   "cell_type": "code",
   "execution_count": 2,
   "metadata": {},
   "outputs": [],
   "source": [
    "# Initialize the board\n",
    "def initialize(board, n):\n",
    "    for key in ['queen', 'row', 'col', 'nwtose', 'swtone']:\n",
    "        board[key] = {}\n",
    "    for i in range(n):\n",
    "        board['queen'][i] = -1\n",
    "        board['row'][i] = 0\n",
    "        board['col'][i] = 0\n",
    "    for i in range(-(n-1), n):\n",
    "        board['nwtose'][i] = 0\n",
    "    for i in range(2*n-1):\n",
    "        board['swtone'][i] = 0\n",
    "\n",
    "# Print the board\n",
    "def printboard(board):\n",
    "    for row in sorted(board['queen'].keys()):\n",
    "        print((row, board['queen'][row]))"
   ]
  },
  {
   "cell_type": "code",
   "execution_count": 3,
   "metadata": {},
   "outputs": [],
   "source": [
    "# Check if a queen can be placed in the position\n",
    "def free(i, j, board):\n",
    "    return (board['row'][i] == 0 and board['col'][j] == 0 and\n",
    "            board['nwtose'][j-i] == 0 and board['swtone'][j+i] == 0)\n",
    "    \n",
    "# Place a queen on the board\n",
    "def addqueen(i, j, board):\n",
    "    board['queen'][i] = j\n",
    "    board['row'][i] = 1\n",
    "    board['col'][j] = 1\n",
    "    board['nwtose'][j-i] = 1\n",
    "    board['swtone'][j+i] = 1\n",
    "    \n",
    "# Remove a queen from the board\n",
    "def undoqueen(i, j, board):\n",
    "    board['queen'][i] = -1\n",
    "    board['row'][i] = 0\n",
    "    board['col'][j] = 0\n",
    "    board['nwtose'][j-i] = 0\n",
    "    board['swtone'][j+i] = 0"
   ]
  },
  {
   "cell_type": "code",
   "execution_count": 4,
   "metadata": {},
   "outputs": [],
   "source": [
    "# Place all queens on the board\n",
    "def placequeen(i, board):\n",
    "    n = len(board['queen'].keys())\n",
    "    for j in range(n):\n",
    "        if free(i, j, board):\n",
    "            addqueen(i, j, board)\n",
    "            if i == n - 1:\n",
    "                return True\n",
    "            else:\n",
    "                extendsol = placequeen(i + 1, board)\n",
    "            if extendsol:\n",
    "                return True\n",
    "            else:\n",
    "                undoqueen(i, j, board)\n",
    "        else:\n",
    "            return False"
   ]
  },
  {
   "cell_type": "code",
   "execution_count": 5,
   "metadata": {},
   "outputs": [],
   "source": [
    "# Testing\n",
    "board = {}\n",
    "n = int(input(\"Number of queens: \"))\n",
    "initialize(board, n)\n",
    "if placequeen(0, board):\n",
    "    printboard(board)"
   ]
  },
  {
   "cell_type": "code",
   "execution_count": 1,
   "metadata": {},
   "outputs": [
    {
     "name": "stdout",
     "output_type": "stream",
     "text": [
      "(0, 0)\n",
      "(1, 4)\n",
      "(2, 7)\n",
      "(3, 5)\n",
      "(4, 2)\n",
      "(5, 6)\n",
      "(6, 1)\n",
      "(7, 3)\n"
     ]
    }
   ],
   "source": [
    "# Printing every single solution\n",
    "def initialize(n):\n",
    "  for key in ['queen','row','col','nwtose','swtone']:\n",
    "    board[key] = {}\n",
    "  for i in range(n):\n",
    "    board['queen'][i] = -1\n",
    "    board['row'][i] = 0\n",
    "    board['col'][i] = 0\n",
    "  for i in range(-(n-1),n):\n",
    "    board['nwtose'][i] = 0\n",
    "  for i in range(2*n-1):\n",
    "    board['swtone'][i] = 0\n",
    "\n",
    "def printboard():\n",
    "  for row in sorted(board['queen'].keys()):\n",
    "    print((row,board['queen'][row]))\n",
    "\n",
    "def free(i,j):\n",
    "  return(board['row'][i] == 0 and board['col'][j] == 0 and\n",
    "          board['nwtose'][j-i] == 0 and board['swtone'][j+i] == 0)\n",
    "\n",
    "def addqueen(i,j):\n",
    "  board['queen'][i] = j\n",
    "  board['row'][i] = 1\n",
    "  board['col'][j] = 1\n",
    "  board['nwtose'][j-i] = 1\n",
    "  board['swtone'][j+i] = 1\n",
    "\n",
    "def undoqueen(i,j):\n",
    "  board['queen'][i] = -1\n",
    "  board['row'][i] = 0\n",
    "  board['col'][j] = 0\n",
    "  board['nwtose'][j-i] = 0\n",
    "  board['swtone'][j+i] = 0\n",
    "\n",
    "def placequeen(i):\n",
    "  n = len(board['queen'].keys())\n",
    "  for j in range(n):\n",
    "    if free(i,j):\n",
    "      addqueen(i,j)\n",
    "      if i == n-1:\n",
    "        return(True)\n",
    "      else:\n",
    "        extendsoln = placequeen(i+1)\n",
    "      if extendsoln:\n",
    "        return(True)\n",
    "      else:\n",
    "        undoqueen(i,j)\n",
    "  else:\n",
    "    return(False)\n",
    "\n",
    "board = {}\n",
    "n = int(input(\"How many queens? \"))\n",
    "initialize(n)\n",
    "if placequeen(0):\n",
    "  printboard()\n"
   ]
  },
  {
   "cell_type": "markdown",
   "metadata": {},
   "source": [
    "# Data Structures\n",
    "\n",
    "**Algorithms + Data Structures = Programs**\n",
    "\n",
    "* Arrays \n",
    "* Dictionaries\n",
    "* Sets"
   ]
  },
  {
   "cell_type": "markdown",
   "metadata": {},
   "source": [
    "## Sets\n",
    "\n",
    "Lists with braces, duplicates automatically removed.\n",
    "\n",
    "To create a set, do `s = set()`\n",
    "\n",
    "### Set Operations\n",
    "\n",
    "* Union - `|`\n",
    "* Intersection - `&`\n",
    "* Difference - `-`\n",
    "* Exclusive or - `^`"
   ]
  },
  {
   "cell_type": "markdown",
   "metadata": {},
   "source": [
    "## Stack \n",
    "\n",
    "Stack is a Last-In-First-Out list.\n",
    "\n",
    "Stack operations are\n",
    "1. `push(s, x)` --- `s.append(x)`\n",
    "2. `pop(s)` --- `s.pop()`\n",
    "\n",
    "Stacks are typically used to keep track of recursive function calls. -- DFS"
   ]
  },
  {
   "cell_type": "markdown",
   "metadata": {},
   "source": [
    "## Queue\n",
    "\n",
    "Queues are First-In-First-Out sequences.\n",
    "\n",
    "Operations in queue are\n",
    "1. `enqueue(x)` - `q.insert(0, x)`\n",
    "2. `dequeue()` - `q.pop()`\n",
    "\n",
    "Queues are used to `Systematic Exploration` of a search field -- BFS"
   ]
  },
  {
   "cell_type": "markdown",
   "metadata": {},
   "source": []
  },
  {
   "cell_type": "markdown",
   "metadata": {},
   "source": []
  },
  {
   "cell_type": "markdown",
   "metadata": {},
   "source": []
  },
  {
   "cell_type": "markdown",
   "metadata": {},
   "source": []
  },
  {
   "cell_type": "markdown",
   "metadata": {},
   "source": []
  },
  {
   "cell_type": "code",
   "execution_count": null,
   "metadata": {},
   "outputs": [],
   "source": []
  }
 ],
 "metadata": {
  "kernelspec": {
   "display_name": "Python 3",
   "language": "python",
   "name": "python3"
  },
  "language_info": {
   "codemirror_mode": {
    "name": "ipython",
    "version": 3
   },
   "file_extension": ".py",
   "mimetype": "text/x-python",
   "name": "python",
   "nbconvert_exporter": "python",
   "pygments_lexer": "ipython3",
   "version": "3.11.3"
  }
 },
 "nbformat": 4,
 "nbformat_minor": 2
}
