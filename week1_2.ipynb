{
 "cells": [
  {
   "cell_type": "markdown",
   "metadata": {},
   "source": [
    "## Algorithms\n",
    "\n",
    "Algorithm is the description of how to systematically perform a task.\n",
    "\n",
    "Programming Language describes the steps in the algorithm. Each step has different degrees of detail. An algorithm must be well-defined (finite)."
   ]
  },
  {
   "cell_type": "markdown",
   "metadata": {},
   "source": [
    "# Greatest Common Divisor\n",
    "\n",
    "`gcd(m, n) = k`, if k is the largest number that divides m and n.\n",
    "\n",
    "### Naive Approach\n",
    "*Steps*\n",
    "1. List out the factors of m\n",
    "2. List out the factors of n\n",
    "3. Report the largest number that appears on both lists.\n",
    "\n",
    "*Algorithm*\n",
    "1. Use `fm`, `fn` for list of factors of m and n.\n",
    "2. For each `i` from 1 to m, add i to fm if i divides m\n",
    "3. For each `j` from 1 to n, add j to fn if i divides n\n",
    "4. Use `cf` for the list of common factors\n",
    "5. For each `f` in fm, add it to cf if f also appears in fn\n",
    "6. Return the largest(rightmost) value in cf"
   ]
  },
  {
   "cell_type": "code",
   "execution_count": 1,
   "metadata": {},
   "outputs": [
    {
     "name": "stdout",
     "output_type": "stream",
     "text": [
      "35\n"
     ]
    }
   ],
   "source": [
    "def gcd(m, n):\n",
    "    fm , fn = [], []\n",
    "    for i in range(1, m + 1):\n",
    "        if m % i == 0:\n",
    "            fm.append(i)\n",
    "    for j in range(1, n + 1):\n",
    "        if n % j == 0:\n",
    "            fn.append(j)\n",
    "    cf = [f for f in fm if f in fn]\n",
    "    return cf[-1]\n",
    "\n",
    "print(gcd(2345, 350))"
   ]
  },
  {
   "cell_type": "markdown",
   "metadata": {},
   "source": [
    "### Simplifying the Algorithm\n",
    "* Avoid two separate scans from 1 to m and 1 to n, do a single scan from 1 to min(m, n)\n",
    "* Instead of computing two lists fm and fn, directly compute the list of common factor"
   ]
  },
  {
   "cell_type": "code",
   "execution_count": 2,
   "metadata": {},
   "outputs": [
    {
     "name": "stdout",
     "output_type": "stream",
     "text": [
      "35\n"
     ]
    }
   ],
   "source": [
    "def gcd(m, n):\n",
    "    cf = []\n",
    "    for i in range(1, min(m, n) + 1):\n",
    "        if m % i == 0 and n % i == 0:\n",
    "            cf.append(i)\n",
    "    return cf[-1]\n",
    "\n",
    "print(gcd(2345, 350))"
   ]
  },
  {
   "cell_type": "markdown",
   "metadata": {},
   "source": [
    "* We only need the largest common factor. Hence each time we find a larger common factor, we can discard the previous one"
   ]
  },
  {
   "cell_type": "code",
   "execution_count": 3,
   "metadata": {},
   "outputs": [
    {
     "name": "stdout",
     "output_type": "stream",
     "text": [
      "35\n"
     ]
    }
   ],
   "source": [
    "def gcd(m, n):\n",
    "    mrcf = 1\n",
    "    for i in range(1, min(m, n) + 1):\n",
    "        if m % i == 0 and n % i == 0:\n",
    "            mrcf = i\n",
    "    return mrcf\n",
    "\n",
    "print(gcd(2345, 350))"
   ]
  },
  {
   "cell_type": "markdown",
   "metadata": {},
   "source": [
    "* We can start at the end and work backwards. This way, the first common factor we find is the largest\n",
    "* We can use a `while` loop on places where we don't know how many times the loop will run."
   ]
  },
  {
   "cell_type": "code",
   "execution_count": 4,
   "metadata": {},
   "outputs": [
    {
     "name": "stdout",
     "output_type": "stream",
     "text": [
      "35\n"
     ]
    }
   ],
   "source": [
    "def gcd(m, n):\n",
    "    i = min(m, n)\n",
    "    while i > 0:\n",
    "        if m % i == 0 and n % i == 0:\n",
    "            return i\n",
    "        i -= 1\n",
    "\n",
    "print(gcd(2345, 350))"
   ]
  },
  {
   "cell_type": "markdown",
   "metadata": {},
   "source": [
    "* Though the program looks simpler, they still take time proportional to the values m and n."
   ]
  },
  {
   "cell_type": "markdown",
   "metadata": {},
   "source": [
    "### Euclidean Algorithm\n",
    "\n",
    "* Suppose d divides m and n and m > n. \n",
    "* Then m = ad and n = bd\n",
    "* m - n = ad - bd = (a - b)d\n",
    "* d divides m - n as well.\n",
    "\n",
    "Hence `gcd(m, n) = gcd(n, m - n)`\n",
    "\n",
    "*Steps*\n",
    "1. Consider gcd(m, n) with m > n\n",
    "2. If n divides m, return n\n",
    "3. Otherwise, compute gcd(n, m-n) and return that value"
   ]
  },
  {
   "cell_type": "code",
   "execution_count": 5,
   "metadata": {},
   "outputs": [
    {
     "name": "stdout",
     "output_type": "stream",
     "text": [
      "35\n"
     ]
    }
   ],
   "source": [
    "def gcd(m, n):\n",
    "    # Assume m > n\n",
    "    if m < n:\n",
    "        m, n = n, m\n",
    "    \n",
    "    if m % n == 0:\n",
    "        return n\n",
    "    # Recursion\n",
    "    return gcd(max(n,m - n), min(n, m - n))\n",
    "\n",
    "print(gcd(2345, 350))"
   ]
  },
  {
   "cell_type": "code",
   "execution_count": 6,
   "metadata": {},
   "outputs": [
    {
     "name": "stdout",
     "output_type": "stream",
     "text": [
      "35\n"
     ]
    }
   ],
   "source": [
    "# Using While loop instead of Recursion\n",
    "def gcd(m, n):\n",
    "    if m < n:\n",
    "        m, n = n, m\n",
    "    while m % n != 0:\n",
    "        m, n = max(n, m - n), min(n, m - n)\n",
    "    return n\n",
    "\n",
    "print(gcd(2345, 350))"
   ]
  },
  {
   "cell_type": "markdown",
   "metadata": {},
   "source": [
    "* Suppose n does not divide m.\n",
    "* Then m = qn + r\n",
    "* Assume d divides both m and n\n",
    "* m = ad, n = bd\n",
    "* ad = q(bd) + r\n",
    "* => r = cd, d divides r as well."
   ]
  },
  {
   "cell_type": "code",
   "execution_count": 7,
   "metadata": {},
   "outputs": [
    {
     "name": "stdout",
     "output_type": "stream",
     "text": [
      "35\n"
     ]
    }
   ],
   "source": [
    "def gcd(m, n):\n",
    "    if m % n == 0:\n",
    "        return n\n",
    "    return gcd(n, m % n)\n",
    "\n",
    "print(gcd(2345, 350))"
   ]
  },
  {
   "cell_type": "markdown",
   "metadata": {},
   "source": [
    "This Version of Euclidean Algorithm takes time proportional to the number of digits."
   ]
  },
  {
   "cell_type": "markdown",
   "metadata": {},
   "source": [
    "# Python\n",
    "\n",
    "**Compiler** translates high level programming language to machine language and generates executable code. **Interpreter** is a program that runs and directly understands high level programming langauge. Python is an Interpreted Language.\n"
   ]
  },
  {
   "cell_type": "markdown",
   "metadata": {},
   "source": [
    "## Quiz 1"
   ]
  },
  {
   "cell_type": "code",
   "execution_count": 8,
   "metadata": {},
   "outputs": [
    {
     "data": {
      "text/plain": [
       "25"
      ]
     },
     "execution_count": 8,
     "metadata": {},
     "output_type": "execute_result"
    }
   ],
   "source": [
    "def f(x):\n",
    "  d = 0\n",
    "  while x > 1:\n",
    "    x, d = x/2, d+1\n",
    "  return d\n",
    "\n",
    "f(27182818)"
   ]
  },
  {
   "cell_type": "code",
   "execution_count": 9,
   "metadata": {},
   "outputs": [
    {
     "data": {
      "text/plain": [
       "75"
      ]
     },
     "execution_count": 9,
     "metadata": {},
     "output_type": "execute_result"
    }
   ],
   "source": [
    "def h(n):\n",
    "    s = 0\n",
    "    for i in range(2, n):\n",
    "        if n % i == 0:\n",
    "           s = s + i\n",
    "    return s\n",
    "\n",
    "h(60) - h(45)"
   ]
  },
  {
   "cell_type": "code",
   "execution_count": 10,
   "metadata": {},
   "outputs": [
    {
     "data": {
      "text/plain": [
       "4"
      ]
     },
     "execution_count": 10,
     "metadata": {},
     "output_type": "execute_result"
    }
   ],
   "source": [
    "def g(m, n):\n",
    "    res = 0\n",
    "    while m >= n:\n",
    "        res, m = res + 1, m / n\n",
    "    return res\n",
    "\n",
    "g(375, 4)"
   ]
  },
  {
   "cell_type": "code",
   "execution_count": 11,
   "metadata": {},
   "outputs": [
    {
     "data": {
      "text/plain": [
       "120"
      ]
     },
     "execution_count": 11,
     "metadata": {},
     "output_type": "execute_result"
    }
   ],
   "source": [
    "def mys(m):\n",
    "    if m == 1:\n",
    "        return 1\n",
    "    else:\n",
    "        return m * mys(m - 1)\n",
    "mys(5)"
   ]
  },
  {
   "cell_type": "markdown",
   "metadata": {},
   "source": [
    "# Python\n",
    "\n",
    "Interpreter executes the statements from top to bottom. A function must be defined before it is used. Best practice is to put all the function definitions at the top of the program and the statements following them."
   ]
  },
  {
   "cell_type": "code",
   "execution_count": 12,
   "metadata": {},
   "outputs": [],
   "source": [
    "# Assignment: \n",
    "# name = expression\n",
    "i = 10\n",
    "j = 2 * i"
   ]
  },
  {
   "cell_type": "markdown",
   "metadata": {},
   "source": [
    "### Numbers\n",
    "* `int` - integers\n",
    "* `float` - fractional numbers\n",
    "\n",
    "Internally a number is stored as a finite sequence of 0's and 1's. For a float, this sequence breaks up into mantissa and exponent.\n",
    "\n",
    "#### Operations\n",
    "1. Arithmetic Operations:  +, -, /,  *\n",
    "    > Note that (/) always produces a float\n",
    "\n",
    "2. Quotient and Remainder: // , %\n",
    "\n",
    "3. Exponentiation: **"
   ]
  },
  {
   "cell_type": "markdown",
   "metadata": {},
   "source": [
    "## Names, Operations and Types\n",
    "\n",
    "Values have types, which determines what operations are legal. Names inherit their type from their current value in Python.\n",
    "\n",
    "### Boolean Values\n",
    "- `True`\n",
    "- `False`\n",
    "\n",
    "### Logical operators\n",
    "`and`, `or`, `not` \n",
    "\n",
    "### Comparisons\n",
    "`==`, `!=`, `<`, `>`, `<=`, `>=`, `!=`, `is`, `is not`"
   ]
  },
  {
   "cell_type": "markdown",
   "metadata": {},
   "source": [
    "## Manipulating Text\n",
    "\n",
    "`str` - a sequence of characters (no separate type `char`)\n",
    "\n",
    "- Strings are enclosed in quotes - single, double or triple (three single / double quotes)\n",
    "- Characters in a string have positions - from 0 to n - 1 for a string of length n"
   ]
  },
  {
   "cell_type": "code",
   "execution_count": 13,
   "metadata": {},
   "outputs": [
    {
     "name": "stdout",
     "output_type": "stream",
     "text": [
      "Helloworld\n",
      "5\n"
     ]
    }
   ],
   "source": [
    "# Concatenation\n",
    "print(\"Hello\" + \"world\")\n",
    "\n",
    "# Length\n",
    "print(len(\"Hello\"))"
   ]
  },
  {
   "cell_type": "markdown",
   "metadata": {},
   "source": [
    "* A slice is a segment of a string.\n",
    "\n",
    "    > s[i:j] starts at s[i] and ends at s[j - 1]"
   ]
  },
  {
   "cell_type": "code",
   "execution_count": 14,
   "metadata": {},
   "outputs": [
    {
     "name": "stdout",
     "output_type": "stream",
     "text": [
      "ell\n",
      "Hello\n",
      "World\n"
     ]
    }
   ],
   "source": [
    "s = \"Hello World\"\n",
    "print(s[1:4])\n",
    "print(s[:5])\n",
    "print(s[6:])"
   ]
  },
  {
   "cell_type": "markdown",
   "metadata": {},
   "source": [
    "#### Strings are Immutable\n",
    "\n",
    "We cannot change the value of a string in place. However, we can create a new string with modified values."
   ]
  },
  {
   "cell_type": "code",
   "execution_count": 16,
   "metadata": {},
   "outputs": [
    {
     "data": {
      "text/plain": [
       "'ello'"
      ]
     },
     "execution_count": 16,
     "metadata": {},
     "output_type": "execute_result"
    }
   ],
   "source": [
    "s = \"Hello\"\n",
    "s = s[1:]\n",
    "s"
   ]
  },
  {
   "cell_type": "markdown",
   "metadata": {},
   "source": [
    "# Lists\n",
    "\n",
    "Lists are sequences of values. They can contain elements of any datatype. We can extract values by their position."
   ]
  },
  {
   "cell_type": "code",
   "execution_count": 18,
   "metadata": {},
   "outputs": [
    {
     "data": {
      "text/plain": [
       "3"
      ]
     },
     "execution_count": 18,
     "metadata": {},
     "output_type": "execute_result"
    }
   ],
   "source": [
    "l = [1, 2, 3]\n",
    "# Length\n",
    "len(l)"
   ]
  },
  {
   "cell_type": "markdown",
   "metadata": {},
   "source": [
    "A single position returns a value, and a slice returns a list. (In strings, a value at a position is also a string.)"
   ]
  },
  {
   "cell_type": "code",
   "execution_count": 23,
   "metadata": {},
   "outputs": [
    {
     "name": "stdout",
     "output_type": "stream",
     "text": [
      "<class 'list'>\n",
      "<class 'int'>\n"
     ]
    }
   ],
   "source": [
    "l = [1, 2, 3]\n",
    "print(type(l[1:]))\n",
    "print(type(l[1]))"
   ]
  },
  {
   "cell_type": "markdown",
   "metadata": {},
   "source": [
    "Lists can contain other lists.\n",
    "\n",
    "Lists are mutable."
   ]
  },
  {
   "cell_type": "markdown",
   "metadata": {},
   "source": [
    "### For immutable values, assignment makes a copy, whereas for mutable values, assignment only makes a new reference to the original object"
   ]
  },
  {
   "cell_type": "code",
   "execution_count": 29,
   "metadata": {},
   "outputs": [
    {
     "data": {
      "text/plain": [
       "([1, 2, 100], [1, 2, 100])"
      ]
     },
     "execution_count": 29,
     "metadata": {},
     "output_type": "execute_result"
    }
   ],
   "source": [
    "l1 = [1, 2, 3]\n",
    "l2 = l1\n",
    "l2[2] = 100\n",
    "l1, l2"
   ]
  },
  {
   "cell_type": "markdown",
   "metadata": {},
   "source": [
    "#### Full Slice\n",
    "\n",
    "Each slice creates a new sublist.\n",
    "\n",
    "Hence, to copy a list, we can use\n",
    "`l2 = l1[:]`"
   ]
  },
  {
   "cell_type": "code",
   "execution_count": 30,
   "metadata": {},
   "outputs": [
    {
     "data": {
      "text/plain": [
       "([1, 2, 3], [1, 2, 100])"
      ]
     },
     "execution_count": 30,
     "metadata": {},
     "output_type": "execute_result"
    }
   ],
   "source": [
    "l1 = [1, 2, 3]\n",
    "l2 = l1[:]\n",
    "l2[2] = 100\n",
    "l1, l2"
   ]
  },
  {
   "cell_type": "markdown",
   "metadata": {},
   "source": [
    "### Digression on equality\n",
    "\n",
    ">list1 = [1, 2, 3]\n",
    "\n",
    ">list2 = [1, 2, 3]\n",
    "\n",
    ">list3 = list2\n",
    "\n",
    "\n",
    "* list1 and list2 are two lists with the same value\n",
    "* list2 and list3 are two names for same list\n",
    "\n",
    "#### x == y checks if x and y have same value. x is y checks if x and y refer to the same object\n"
   ]
  },
  {
   "cell_type": "code",
   "execution_count": 31,
   "metadata": {},
   "outputs": [
    {
     "name": "stdout",
     "output_type": "stream",
     "text": [
      "True True False True\n"
     ]
    }
   ],
   "source": [
    "l1 = [1, 2, 3]\n",
    "l2 = [1, 2, 3]\n",
    "l3 = l2\n",
    "\n",
    "print(l1 == l2, l2 == l2, l1 is l2, l2 is l3)"
   ]
  },
  {
   "cell_type": "markdown",
   "metadata": {},
   "source": [
    "* lists can be concatenated using `+`\n",
    "* Concatenation always produces a new list"
   ]
  },
  {
   "cell_type": "code",
   "execution_count": 33,
   "metadata": {},
   "outputs": [
    {
     "data": {
      "text/plain": [
       "[1, 2, 3, 4, 5, 6, 7]"
      ]
     },
     "execution_count": 33,
     "metadata": {},
     "output_type": "execute_result"
    }
   ],
   "source": [
    "[1, 2, 3, 4] + [5, 6, 7]"
   ]
  },
  {
   "cell_type": "markdown",
   "metadata": {},
   "source": [
    "## Control Flow\n",
    "\n",
    "Determines the order in which statements are executed.\n",
    "\n",
    "1. ### Conditional Execution\n",
    "\n",
    "- `0`, `\"\"`, `[]`, `False` are interpreted as false\n",
    "- Everything else is true\n",
    "\n",
    "2. ### Loops\n",
    "\n",
    "- `for` - when we want to execute some statements for a fixed number of times\n",
    "- `while` - when we want to execute some statements while a condition remains true"
   ]
  },
  {
   "cell_type": "markdown",
   "metadata": {},
   "source": [
    "# Functions"
   ]
  },
  {
   "cell_type": "code",
   "execution_count": 34,
   "metadata": {},
   "outputs": [
    {
     "data": {
      "text/plain": [
       "36"
      ]
     },
     "execution_count": 34,
     "metadata": {},
     "output_type": "execute_result"
    }
   ],
   "source": [
    "def f(a, b):\n",
    "    return a ** b\n",
    "\n",
    "f(6, 2)"
   ]
  },
  {
   "cell_type": "markdown",
   "metadata": {},
   "source": [
    "* Functions change mutable values and does not affect immutable values (copy).\n",
    "* Names within a function have `local scope` --- separate from outside\n",
    "* Function must be defined before it is invoked\n",
    "* A function can call itself - `recursion`"
   ]
  },
  {
   "cell_type": "code",
   "execution_count": 35,
   "metadata": {},
   "outputs": [
    {
     "data": {
      "text/plain": [
       "120"
      ]
     },
     "execution_count": 35,
     "metadata": {},
     "output_type": "execute_result"
    }
   ],
   "source": [
    "def factorial(n):\n",
    "    if n <= 1:\n",
    "        return 1\n",
    "    return  n * factorial(n-1)\n",
    "factorial(5)"
   ]
  },
  {
   "cell_type": "code",
   "execution_count": 42,
   "metadata": {},
   "outputs": [
    {
     "data": {
      "text/plain": [
       "[1, 2, 3, 4, 6, 9, 12, 18, 36]"
      ]
     },
     "execution_count": 42,
     "metadata": {},
     "output_type": "execute_result"
    }
   ],
   "source": [
    "# Factors of a number\n",
    "def factors(n):\n",
    "    l = []\n",
    "    for i in range(1, n + 1):\n",
    "        if not n % i:\n",
    "            l = l + [i]\n",
    "    return l\n",
    "\n",
    "factors(36)"
   ]
  },
  {
   "cell_type": "code",
   "execution_count": 46,
   "metadata": {},
   "outputs": [
    {
     "data": {
      "text/plain": [
       "(True, False, False)"
      ]
     },
     "execution_count": 46,
     "metadata": {},
     "output_type": "execute_result"
    }
   ],
   "source": [
    "def isPrime(n):\n",
    "    return factors(n) == [1, n]\n",
    "\n",
    "isPrime(7), isPrime(10), isPrime(1)"
   ]
  },
  {
   "cell_type": "code",
   "execution_count": 47,
   "metadata": {},
   "outputs": [
    {
     "data": {
      "text/plain": [
       "[2, 3, 5, 7, 11, 13, 17, 19]"
      ]
     },
     "execution_count": 47,
     "metadata": {},
     "output_type": "execute_result"
    }
   ],
   "source": [
    "def primesUpto(n):\n",
    "    l = []\n",
    "    for i in range(1, n + 1):\n",
    "        if isPrime(i):\n",
    "            l += [i]\n",
    "    return l\n",
    "\n",
    "primesUpto(20)"
   ]
  },
  {
   "cell_type": "code",
   "execution_count": 49,
   "metadata": {},
   "outputs": [
    {
     "data": {
      "text/plain": [
       "[2, 3, 5, 7, 11, 13, 17, 19, 23, 29, 31, 37, 41, 43, 47]"
      ]
     },
     "execution_count": 49,
     "metadata": {},
     "output_type": "execute_result"
    }
   ],
   "source": [
    "def first_n_primes(n):\n",
    "    count, i, l = 0, 1, []\n",
    "    while count < n:\n",
    "        if isPrime(i):\n",
    "            count, l = count + 1, l + [i]\n",
    "        i += 1\n",
    "    return l\n",
    "\n",
    "first_n_primes(15)"
   ]
  },
  {
   "cell_type": "code",
   "execution_count": 57,
   "metadata": {},
   "outputs": [
    {
     "name": "stdout",
     "output_type": "stream",
     "text": [
      "a\n",
      "la\n",
      "ula\n",
      "tula\n",
      "ntula\n",
      "antula\n",
      "rantula\n",
      "arantula\n",
      "tarantula\n"
     ]
    }
   ],
   "source": [
    "first = \"tarantula\"\n",
    "second = \"\"\n",
    "for i in range(len(first)-1,-1,-1):\n",
    "  second = first[i] + second\n",
    "  print(second)"
   ]
  },
  {
   "cell_type": "code",
   "execution_count": 61,
   "metadata": {},
   "outputs": [
    {
     "data": {
      "text/plain": [
       "[44, 71, 12, 8, 23, 17, 16]"
      ]
     },
     "execution_count": 61,
     "metadata": {},
     "output_type": "execute_result"
    }
   ],
   "source": [
    "def mystery(l):\n",
    "  l = l[0:5]\n",
    "  return()\n",
    "\n",
    "list1 = [44,71,12,8,23,17,16]\n",
    "mystery(list1)\n",
    "\n",
    "list1"
   ]
  }
 ],
 "metadata": {
  "kernelspec": {
   "display_name": "Python 3",
   "language": "python",
   "name": "python3"
  },
  "language_info": {
   "codemirror_mode": {
    "name": "ipython",
    "version": 3
   },
   "file_extension": ".py",
   "mimetype": "text/x-python",
   "name": "python",
   "nbconvert_exporter": "python",
   "pygments_lexer": "ipython3",
   "version": "3.11.3"
  }
 },
 "nbformat": 4,
 "nbformat_minor": 2
}
