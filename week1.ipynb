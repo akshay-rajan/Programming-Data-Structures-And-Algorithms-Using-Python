{
 "cells": [
  {
   "cell_type": "markdown",
   "metadata": {},
   "source": [
    "## Algorithms\n",
    "\n",
    "Algorithm is the description of how to systematically perform a task.\n",
    "\n",
    "Programming Language describes the steps in the algorithm. Each step has different degrees of detail. An algorithm must be well-defined (finite)."
   ]
  },
  {
   "cell_type": "markdown",
   "metadata": {},
   "source": [
    "# Greatest Common Divisor\n",
    "\n",
    "`gcd(m, n) = k`, if k is the largest number that divides m and n.\n",
    "\n",
    "### Naive Approach\n",
    "*Steps*\n",
    "1. List out the factors of m\n",
    "2. List out the factors of n\n",
    "3. Report the largest number that appears on both lists.\n",
    "\n",
    "*Algorithm*\n",
    "1. Use `fm`, `fn` for list of factors of m and n.\n",
    "2. For each `i` from 1 to m, add i to fm if i divides m\n",
    "3. For each `j` from 1 to n, add j to fn if i divides n\n",
    "4. Use `cf` for the list of common factors\n",
    "5. For each `f` in fm, add it to cf if f also appears in fn\n",
    "6. Return the largest(rightmost) value in cf"
   ]
  },
  {
   "cell_type": "code",
   "execution_count": 9,
   "metadata": {},
   "outputs": [
    {
     "name": "stdout",
     "output_type": "stream",
     "text": [
      "35\n"
     ]
    }
   ],
   "source": [
    "def gcd(m, n):\n",
    "    fm , fn = [], []\n",
    "    for i in range(1, m + 1):\n",
    "        if m % i == 0:\n",
    "            fm.append(i)\n",
    "    for j in range(1, n + 1):\n",
    "        if n % j == 0:\n",
    "            fn.append(j)\n",
    "    cf = [f for f in fm if f in fn]\n",
    "    return cf[-1]\n",
    "\n",
    "print(gcd(2345, 350))"
   ]
  },
  {
   "cell_type": "markdown",
   "metadata": {},
   "source": [
    "### Simplifying the Algorithm\n",
    "* Avoid two separate scans from 1 to m and 1 to n, do a single scan from 1 to min(m, n)\n",
    "* Instead of computing two lists fm and fn, directly compute the list of common factor"
   ]
  },
  {
   "cell_type": "code",
   "execution_count": 10,
   "metadata": {},
   "outputs": [
    {
     "name": "stdout",
     "output_type": "stream",
     "text": [
      "35\n"
     ]
    }
   ],
   "source": [
    "def gcd(m, n):\n",
    "    cf = []\n",
    "    for i in range(1, min(m, n) + 1):\n",
    "        if m % i == 0 and n % i == 0:\n",
    "            cf.append(i)\n",
    "    return cf[-1]\n",
    "\n",
    "print(gcd(2345, 350))"
   ]
  },
  {
   "cell_type": "markdown",
   "metadata": {},
   "source": [
    "* We only need the largest common factor. Hence each time we find a larger common factor, we can discard the previous one"
   ]
  },
  {
   "cell_type": "code",
   "execution_count": 12,
   "metadata": {},
   "outputs": [
    {
     "name": "stdout",
     "output_type": "stream",
     "text": [
      "35\n"
     ]
    }
   ],
   "source": [
    "def gcd(m, n):\n",
    "    mrcf = 1\n",
    "    for i in range(1, min(m, n) + 1):\n",
    "        if m % i == 0 and n % i == 0:\n",
    "            mrcf = i\n",
    "    return mrcf\n",
    "\n",
    "print(gcd(2345, 350))"
   ]
  },
  {
   "cell_type": "markdown",
   "metadata": {},
   "source": [
    "* We can start at the end and work backwards. This way, the first common factor we find is the largest\n",
    "* We can use a `while` loop on places where we don't know how many times the loop will run."
   ]
  },
  {
   "cell_type": "code",
   "execution_count": 14,
   "metadata": {},
   "outputs": [
    {
     "name": "stdout",
     "output_type": "stream",
     "text": [
      "35\n"
     ]
    }
   ],
   "source": [
    "def gcd(m, n):\n",
    "    i = min(m, n)\n",
    "    while i > 0:\n",
    "        if m % i == 0 and n % i == 0:\n",
    "            return i\n",
    "        i -= 1\n",
    "\n",
    "print(gcd(2345, 350))"
   ]
  },
  {
   "cell_type": "markdown",
   "metadata": {},
   "source": [
    "* Though the program looks simpler, they still take time proportional to the values m and n."
   ]
  },
  {
   "cell_type": "markdown",
   "metadata": {},
   "source": [
    "### Euclidean Algorithm\n",
    "\n",
    "* Suppose d divides m and n and m > n. \n",
    "* Then m = ad and n = bd\n",
    "* m - n = ad - bd = (a - b)d\n",
    "* d divides m - n as well.\n",
    "\n",
    "Hence `gcd(m, n) = gcd(n, m - n)`\n",
    "\n",
    "*Steps*\n",
    "1. Consider gcd(m, n) with m > n\n",
    "2. If n divides m, return n\n",
    "3. Otherwise, compute gcd(n, m-n) and return that value"
   ]
  },
  {
   "cell_type": "code",
   "execution_count": 17,
   "metadata": {},
   "outputs": [
    {
     "name": "stdout",
     "output_type": "stream",
     "text": [
      "35\n"
     ]
    }
   ],
   "source": [
    "def gcd(m, n):\n",
    "    # Assume m > n\n",
    "    if m < n:\n",
    "        m, n = n, m\n",
    "    \n",
    "    if m % n == 0:\n",
    "        return n\n",
    "    # Recursion\n",
    "    return gcd(max(n,m - n), min(n, m - n))\n",
    "\n",
    "print(gcd(2345, 350))"
   ]
  },
  {
   "cell_type": "code",
   "execution_count": 24,
   "metadata": {},
   "outputs": [
    {
     "name": "stdout",
     "output_type": "stream",
     "text": [
      "35\n"
     ]
    }
   ],
   "source": [
    "# Using While loop instead of Recursion\n",
    "def gcd(m, n):\n",
    "    if m < n:\n",
    "        m, n = n, m\n",
    "    while m % n != 0:\n",
    "        m, n = max(n, m - n), min(n, m - n)\n",
    "    return n\n",
    "\n",
    "print(gcd(2345, 350))"
   ]
  },
  {
   "cell_type": "markdown",
   "metadata": {},
   "source": [
    "* Suppose n does not divide m.\n",
    "* Then m = qn + r\n",
    "* Assume d divides both m and n\n",
    "* m = ad, n = bd\n",
    "* ad = q(bd) + r\n",
    "* => r = cd, d divides r as well."
   ]
  },
  {
   "cell_type": "code",
   "execution_count": 26,
   "metadata": {},
   "outputs": [
    {
     "name": "stdout",
     "output_type": "stream",
     "text": [
      "35\n"
     ]
    }
   ],
   "source": [
    "def gcd(m, n):\n",
    "    if m % n == 0:\n",
    "        return n\n",
    "    return gcd(n, m % n)\n",
    "\n",
    "print(gcd(2345, 350))"
   ]
  },
  {
   "cell_type": "markdown",
   "metadata": {},
   "source": [
    "This Version of Euclidean Algorithm takes time proportional to the number of digits."
   ]
  },
  {
   "cell_type": "markdown",
   "metadata": {},
   "source": [
    "# Python\n",
    "\n",
    "**Compiler** translates high level programming language to machine language and generates executable code. **Interpreter** is a program that runs and directly understands high level programming langauge. Python is an Interpreted Language.\n"
   ]
  }
 ],
 "metadata": {
  "kernelspec": {
   "display_name": "Python 3",
   "language": "python",
   "name": "python3"
  },
  "language_info": {
   "codemirror_mode": {
    "name": "ipython",
    "version": 3
   },
   "file_extension": ".py",
   "mimetype": "text/x-python",
   "name": "python",
   "nbconvert_exporter": "python",
   "pygments_lexer": "ipython3",
   "version": "3.11.3"
  }
 },
 "nbformat": 4,
 "nbformat_minor": 2
}
