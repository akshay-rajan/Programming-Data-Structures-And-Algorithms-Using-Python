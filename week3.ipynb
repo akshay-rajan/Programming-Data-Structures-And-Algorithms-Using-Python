{
 "cells": [
  {
   "cell_type": "markdown",
   "metadata": {},
   "source": [
    "## range()\n",
    "\n",
    "Range generates a sequence of numbers. Technically, range is not a list.\n",
    "\n",
    "`range(start, end, step)`"
   ]
  },
  {
   "cell_type": "code",
   "execution_count": 4,
   "metadata": {},
   "outputs": [
    {
     "data": {
      "text/plain": [
       "[1, 3, 5, 7, 9]"
      ]
     },
     "execution_count": 4,
     "metadata": {},
     "output_type": "execute_result"
    }
   ],
   "source": [
    "[i for i in range(1, 10, 2)]"
   ]
  },
  {
   "cell_type": "code",
   "execution_count": 7,
   "metadata": {},
   "outputs": [
    {
     "data": {
      "text/plain": [
       "[range(10, -1, -1)]"
      ]
     },
     "execution_count": 7,
     "metadata": {},
     "output_type": "execute_result"
    }
   ],
   "source": [
    "[i for i in range(10, -1, -1)]"
   ]
  },
  {
   "cell_type": "code",
   "execution_count": 9,
   "metadata": {},
   "outputs": [
    {
     "data": {
      "text/plain": [
       "[0, 1, 2, 3, 4, 5]"
      ]
     },
     "execution_count": 9,
     "metadata": {},
     "output_type": "execute_result"
    }
   ],
   "source": [
    "# To convert range to list: type conversion\n",
    "list(range(6))"
   ]
  },
  {
   "cell_type": "markdown",
   "metadata": {},
   "source": [
    "## Lists\n",
    "\n",
    "Lists are mutable.\n",
    "* Since concatenation causes the generation of a copy, we use `append` to modify a list, adding an element to its end. \n",
    "* The `extend` function is used to append a list of values.\n",
    "* `l.remove(x)` removes the first occurence of x\n",
    "* `x in l` returns true if x is in l\n",
    "* `l.reverse(), l.sort(), l.index(x), l.rindex()` etc. are some other list methods."
   ]
  },
  {
   "cell_type": "code",
   "execution_count": 11,
   "metadata": {},
   "outputs": [
    {
     "data": {
      "text/plain": [
       "[1, 2, 1, 2]"
      ]
     },
     "execution_count": 11,
     "metadata": {},
     "output_type": "execute_result"
    }
   ],
   "source": [
    "l = [1, 2, 3, 1, 2, 3]\n",
    "while 3 in l:\n",
    "    l.remove(3)\n",
    "    \n",
    "l"
   ]
  },
  {
   "cell_type": "markdown",
   "metadata": {},
   "source": [
    "## Arrays and Lists\n",
    "\n",
    "Two common ways to store a sequence of values.\n",
    "1. `Arrays` are a single block of memory. The elements are of uniform type, and the size of the sequence is fixed in advance. Accessing an element is fast, using indexes. But insertion and contraction are expensive.\n",
    "2. `Lists` are values scattered in memory. Each element points to the next using a link- linked list. Lists have flexible size (dynamic). Accessing i'th element costs proportional to i. But insertion and contraction are cheap.\n",
    "\n",
    "* Exchanging two values, i.e, swapping the values takes constant time in arrays and linear time in lists. Deletion takes constant time in lists, but linear time in arrays."
   ]
  },
  {
   "cell_type": "markdown",
   "metadata": {},
   "source": [
    "## Searching\n",
    "\n",
    "Linear Search causes us to search the entire list. The cost is proportional to the length of the list.\n",
    "\n",
    "If the sequence is sorted, we can use `Binary Search`. Binary Search only works for arrays, since we need to look up `seq[i]` in constant time."
   ]
  },
  {
   "cell_type": "code",
   "execution_count": 1,
   "metadata": {},
   "outputs": [],
   "source": [
    "# Linear Search: O(n)\n",
    "def search(seq, v):\n",
    "    for x in seq:\n",
    "        if x == v:\n",
    "            return True\n",
    "    return False"
   ]
  },
  {
   "cell_type": "code",
   "execution_count": 5,
   "metadata": {},
   "outputs": [
    {
     "data": {
      "text/plain": [
       "False"
      ]
     },
     "execution_count": 5,
     "metadata": {},
     "output_type": "execute_result"
    }
   ],
   "source": [
    "# Binary Search: O(lg n)\n",
    "def binarySearch(seq, v, l, r):\n",
    "    if r - l == 0:\n",
    "        return False\n",
    "    mid = (l + r) // 2    \n",
    "    if v == seq[mid]:\n",
    "        return True\n",
    "    elif v < seq[mid]:\n",
    "        return binarySearch(seq, v, l, mid)\n",
    "    else:\n",
    "        return binarySearch(seq, v, mid + 1, r)\n",
    "    \n",
    "l = [2, 3, 6, 7, 12, 15, 33, 92]\n",
    "binarySearch(l, 8, 0, len(l))"
   ]
  },
  {
   "cell_type": "markdown",
   "metadata": {},
   "source": [
    "Lists in python are actually lists, even though they support indexing as in arrays. "
   ]
  },
  {
   "cell_type": "markdown",
   "metadata": {},
   "source": [
    "## Efficiency\n",
    "\n",
    "Efficiency can be calculated as a measure of time taken by a function with respect to an input size => `T(n)`. We usually report the worst case behaviour.\n",
    "\n",
    "#### O() Notation: log n, n, n log n, n^2, ..., 2^n, n!,...\n",
    "\n",
    "* Python can do about `10^7` steps in a second.\n",
    "* T(n) = O(n ^ k) is theoretically considered efficient. In practice, O(n^2) takes a very long time."
   ]
  },
  {
   "cell_type": "markdown",
   "metadata": {},
   "source": [
    "## Selection Sort (O(n^2))\n",
    "\n",
    "Select the next element in sorted order and exchange it with the values at the beginning.\n",
    "\n",
    "![ss](./selectionSort.gif)"
   ]
  },
  {
   "cell_type": "code",
   "execution_count": 6,
   "metadata": {},
   "outputs": [
    {
     "data": {
      "text/plain": [
       "[2, 19, 23, 23, 31, 32, 54, 55, 189]"
      ]
     },
     "execution_count": 6,
     "metadata": {},
     "output_type": "execute_result"
    }
   ],
   "source": [
    "def selectionSort(l):\n",
    "    for start in range(len(l)):\n",
    "        minpos = start\n",
    "        for i in range(start, len(l)):\n",
    "            if l[i] < l[minpos]:\n",
    "                minpos = i\n",
    "        l[start], l[minpos] = l[minpos], l[start]\n",
    "        \n",
    "        \n",
    "l = [32,31, 54, 23, 19, 2, 189, 23, 55]\n",
    "selectionSort(l)\n",
    "l"
   ]
  },
  {
   "cell_type": "markdown",
   "metadata": {},
   "source": [
    "## Insertion Sort (O(n^2))\n",
    "\n",
    "Insert each element in the correct position in a new array.\n",
    "\n",
    "We can avoid using a new array by moving each element to the left until it is at the appropriate position."
   ]
  },
  {
   "cell_type": "code",
   "execution_count": 3,
   "metadata": {},
   "outputs": [
    {
     "name": "stdout",
     "output_type": "stream",
     "text": [
      "[30, 28, 26, 24, 22, 20, 18, 16, 14, 12, 10, 8, 6, 4, 2]\n"
     ]
    },
    {
     "data": {
      "text/plain": [
       "[2, 4, 6, 8, 10, 12, 14, 16, 18, 20, 22, 24, 26, 28, 30]"
      ]
     },
     "execution_count": 3,
     "metadata": {},
     "output_type": "execute_result"
    }
   ],
   "source": [
    "def insertionSort(seq):\n",
    "    for sliceEnd in range(len(seq)):\n",
    "        pos = sliceEnd\n",
    "        while pos > 0 and seq[pos] < seq[pos - 1]:\n",
    "            seq[pos], seq[pos - 1] = seq[pos - 1], seq[pos]\n",
    "            pos -= 1\n",
    "            \n",
    "l = list(range(30, 0, -2))\n",
    "print(l)\n",
    "insertionSort(l)\n",
    "l"
   ]
  },
  {
   "cell_type": "markdown",
   "metadata": {},
   "source": [
    "## Recursion\n",
    "\n",
    "Recursive functions are defined `Inductively`. "
   ]
  },
  {
   "cell_type": "code",
   "execution_count": 5,
   "metadata": {},
   "outputs": [],
   "source": [
    "def factorial(n):\n",
    "    if n <= 1:\n",
    "        return 1\n",
    "    return n * factorial(n - 1)\n",
    "\n",
    "def multiply(m, n):\n",
    "    if n == 1:\n",
    "        return m\n",
    "    return m + multiply(m - 1, n)"
   ]
  },
  {
   "cell_type": "code",
   "execution_count": 6,
   "metadata": {},
   "outputs": [],
   "source": [
    "# Defining list inductively\n",
    "def length(l):\n",
    "    if l == []:\n",
    "        return 0\n",
    "    return 1 + length(l[1:])\n",
    "\n",
    "def list_sum(l):\n",
    "    if l == []:\n",
    "        return 0\n",
    "    return l[0] + list_sum(l[1:])"
   ]
  },
  {
   "cell_type": "code",
   "execution_count": 9,
   "metadata": {},
   "outputs": [
    {
     "data": {
      "text/plain": [
       "[0, 1, 2, 3, 4, 5, 6, 7, 8, 9, 10, 11, 12, 13, 14, 15]"
      ]
     },
     "execution_count": 9,
     "metadata": {},
     "output_type": "execute_result"
    }
   ],
   "source": [
    "# Insertion Sort using recursion\n",
    "def insertionSort(l):\n",
    "    isort(l, len(l))\n",
    "    \n",
    "def isort(l, k):\n",
    "    if k > 1:\n",
    "        isort(l, k - 1)\n",
    "        insert(l, k - 1)\n",
    "        \n",
    "def insert(l, k):\n",
    "    pos = k\n",
    "    while pos > 0 and l[pos] < l[pos - 1]:\n",
    "        l[pos], l[pos - 1] = l[pos - 1], l[pos]\n",
    "        pos -= 1\n",
    "            \n",
    "l = list(range(15, -1, -1))\n",
    "insertionSort(l)\n",
    "l"
   ]
  },
  {
   "cell_type": "markdown",
   "metadata": {},
   "source": [
    "Python sets a recursion limit of about 1000. We can raise it manually using `sys.setrecursionlimit(10000)`"
   ]
  },
  {
   "cell_type": "code",
   "execution_count": 29,
   "metadata": {},
   "outputs": [
    {
     "name": "stdout",
     "output_type": "stream",
     "text": [
      "[3, 1, 3, 5] set()\n",
      "[3, 1, 3, 5] {3}\n",
      "[3, 1, 3, 5] {1, 3}\n",
      "[3, 1, 5] {1, 3}\n",
      "[3, 1, 5] [3, 1, 5]\n"
     ]
    }
   ],
   "source": [
    "# Remove duplicates\n",
    "def remdup(l):\n",
    "    s, i = set(), 0\n",
    "    while i < len(l):\n",
    "        print(l, s)\n",
    "        if l[i] not in s:\n",
    "            s.add(l[i])\n",
    "            i += 1\n",
    "        else:\n",
    "            l.pop(i)\n",
    "    return l\n",
    "\n",
    "l = [3, 1, 3, 5]\n",
    "print(remdup(l), l)"
   ]
  },
  {
   "cell_type": "code",
   "execution_count": 5,
   "metadata": {},
   "outputs": [
    {
     "data": {
      "text/plain": [
       "[0, 56]"
      ]
     },
     "execution_count": 5,
     "metadata": {},
     "output_type": "execute_result"
    }
   ],
   "source": [
    "# Sum of squares of odd and even numbers\n",
    "def sumsquare(l):\n",
    "    return [sum([i * i for i in l if i % 2 == 1]), sum([i * i for i in l if i % 2 == 0])]\n",
    "\n",
    "sumsquare([2, 4, 6])"
   ]
  },
  {
   "cell_type": "code",
   "execution_count": 7,
   "metadata": {},
   "outputs": [
    {
     "name": "stdout",
     "output_type": "stream",
     "text": [
      "[[1, 5], [2, 6], [3, 7], [4, 8]] [[1, 2, 3, 4], [5, 6, 7, 8]]\n"
     ]
    }
   ],
   "source": [
    "# Find the transpose of a matrix\n",
    "def transpose(m):\n",
    "    return [[row[i] for row in m] for i in range(len(m[0]))]\n",
    "\n",
    "m = [\n",
    "    [1, 2, 3, 4],\n",
    "    [5, 6, 7, 8]\n",
    "]\n",
    "print(transpose(m), m)"
   ]
  }
 ],
 "metadata": {
  "kernelspec": {
   "display_name": "Python 3",
   "language": "python",
   "name": "python3"
  },
  "language_info": {
   "codemirror_mode": {
    "name": "ipython",
    "version": 3
   },
   "file_extension": ".py",
   "mimetype": "text/x-python",
   "name": "python",
   "nbconvert_exporter": "python",
   "pygments_lexer": "ipython3",
   "version": "3.11.3"
  }
 },
 "nbformat": 4,
 "nbformat_minor": 2
}
