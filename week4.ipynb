{
 "cells": [
  {
   "cell_type": "markdown",
   "metadata": {},
   "source": [
    "## Merge Sort\n",
    "\n",
    "* Divide the array in two equal parts\n",
    "* Recursively sort left and right halves\n",
    "* Merge the sorted halves\n",
    "\n",
    "\n",
    "To merge, compare the first element of A and B, move it to C. Repeat until all elements in A and B are over.\n",
    "\n",
    "> **32** 74 89 \n",
    ">\n",
    "> **21** 54 64\n",
    "> \n",
    "> 21                                (21 is smaller than 32)\n",
    ">\n",
    "> 21 32                             (32 is smaller than 54)\n",
    ">\n",
    "> 21 32 54\n",
    ">\n",
    "> 21 32 54 64\n",
    ">\n",
    "> 21 32 54 64 74\n",
    ">\n",
    "> 21 32 54 64 74 89\n",
    "\n",
    "\n",
    "\n"
   ]
  },
  {
   "cell_type": "markdown",
   "metadata": {},
   "source": [
    "#### Merge Sort in Python: Divide and Conquer\n",
    "```\n",
    "Sort A[:n//2]\n",
    "Sort A[n//2:]\n",
    "Merge the sorted halves into B[0:n]\n",
    "\n",
    "```\n",
    "Each half is sorted recursively"
   ]
  },
  {
   "cell_type": "code",
   "execution_count": 17,
   "metadata": {},
   "outputs": [
    {
     "data": {
      "text/plain": [
       "[1, 2, 3, 4, 5, 6]"
      ]
     },
     "execution_count": 17,
     "metadata": {},
     "output_type": "execute_result"
    }
   ],
   "source": [
    "# Merge A[0:n//2], B[n//2:0]\n",
    "def merge(A, B):\n",
    "    C = []\n",
    "    m, n = len(A), len(B)\n",
    "    # Current positions in A and B\n",
    "    i, j = 0, 0\n",
    "    # i + j is the number of elements merged so far\n",
    "    while i + j < m + n:\n",
    "        # Reached the end of A\n",
    "        if i == m:\n",
    "            C.append(B[j])\n",
    "            j += 1\n",
    "        # Reached the end of B\n",
    "        elif j == n:\n",
    "            C.append(A[i])\n",
    "            i += 1\n",
    "        # If the element in A is smaller\n",
    "        elif A[i] <= B[j]:\n",
    "            C.append(A[i])\n",
    "            i += 1\n",
    "        # Else\n",
    "        elif A[i] > B[j]:\n",
    "            C.append(B[j])\n",
    "            j += 1            \n",
    "    return C\n",
    "\n",
    "A, B = [1, 3, 5], [2, 4, 6]\n",
    "merge(A, B)"
   ]
  },
  {
   "cell_type": "code",
   "execution_count": 11,
   "metadata": {},
   "outputs": [],
   "source": [
    "# Combining Cases\n",
    "# def merge(A, B):\n",
    "#     C = []\n",
    "#     m, n = len(A), len(B)\n",
    "#     i, j = 0, 0\n",
    "#     while i + j < m + n:\n",
    "#         if i == m or A[i] > B[j]:\n",
    "#             C.append(B[j])\n",
    "#             j += 1\n",
    "#         elif j == n or A[i] <= B[j]:\n",
    "#             C.append(A[j])\n",
    "#             i += 1\n",
    "#     return C"
   ]
  },
  {
   "cell_type": "markdown",
   "metadata": {},
   "source": [
    "### MergeSort (O(n log n))"
   ]
  },
  {
   "cell_type": "code",
   "execution_count": 18,
   "metadata": {},
   "outputs": [],
   "source": [
    "def mergeSort(A, left, right):\n",
    "    if right - left <= 1:\n",
    "        return A[left:right]\n",
    "    \n",
    "    mid = (left + right) // 2\n",
    "    L, R = mergeSort(A, left, mid), mergeSort(A, mid, right)\n",
    "    \n",
    "    return merge(L, R)"
   ]
  },
  {
   "cell_type": "code",
   "execution_count": 21,
   "metadata": {},
   "outputs": [
    {
     "name": "stdout",
     "output_type": "stream",
     "text": [
      "[1, 3, 5, 7, 9, 11, 13, 15, 17, 19, 21, 23, 25, 27, 29, 31, 33, 35, 37, 39, 41, 43, 45, 47, 49, 51, 53, 55, 57, 59, 61, 63, 65, 67, 69, 71, 73, 75, 77, 79, 81, 83, 85, 87, 89, 91, 93, 95, 97, 99, 0, 2, 4, 6, 8, 10, 12, 14, 16, 18, 20, 22, 24, 26, 28, 30, 32, 34, 36, 38, 40, 42, 44, 46, 48, 50, 52, 54, 56, 58, 60, 62, 64, 66, 68, 70, 72, 74, 76, 78, 80, 82, 84, 86, 88, 90, 92, 94, 96, 98]\n",
      "[0, 1, 2, 3, 4, 5, 6, 7, 8, 9, 10, 11, 12, 13, 14, 15, 16, 17, 18, 19, 20, 21, 22, 23, 24, 25, 26, 27, 28, 29, 30, 31, 32, 33, 34, 35, 36, 37, 38, 39, 40, 41, 42, 43, 44, 45, 46, 47, 48, 49, 50, 51, 52, 53, 54, 55, 56, 57, 58, 59, 60, 61, 62, 63, 64, 65, 66, 67, 68, 69, 70, 71, 72, 73, 74, 75, 76, 77, 78, 79, 80, 81, 82, 83, 84, 85, 86, 87, 88, 89, 90, 91, 92, 93, 94, 95, 96, 97, 98, 99]\n"
     ]
    }
   ],
   "source": [
    "a = list(range(1, 100, 2)) + list(range(0, 100, 2))\n",
    "print(a)\n",
    "\n",
    "print(mergeSort(a, 0, len(a)))"
   ]
  },
  {
   "cell_type": "markdown",
   "metadata": {},
   "source": [
    "To merge `A` of size `m` and `B` of size `n`, \n",
    "* In each iteration, we add one element to `C`\n",
    "* Size of `C` is `m + n`\n",
    "* Hence the `merge` function takes `O(max(m, n))` = **O(n)**\n",
    "\n",
    "To sort two halves of A[0:n] into B[0:n],\n",
    "* Assume `n = 2^k`\n",
    "* To divide the list and merge two lists of size `n/2`,\n",
    "\n",
    "    `T(n) = 2T(n/2) + n`\n",
    "    \n",
    "    `= (2 ^ log n) + (log n * n)`\n"
   ]
  },
  {
   "cell_type": "markdown",
   "metadata": {},
   "source": [
    "## QuickSort"
   ]
  },
  {
   "cell_type": "markdown",
   "metadata": {},
   "source": []
  },
  {
   "cell_type": "markdown",
   "metadata": {},
   "source": []
  },
  {
   "cell_type": "markdown",
   "metadata": {},
   "source": []
  },
  {
   "cell_type": "markdown",
   "metadata": {},
   "source": []
  },
  {
   "cell_type": "markdown",
   "metadata": {},
   "source": []
  },
  {
   "cell_type": "markdown",
   "metadata": {},
   "source": []
  }
 ],
 "metadata": {
  "kernelspec": {
   "display_name": "Python 3",
   "language": "python",
   "name": "python3"
  },
  "language_info": {
   "codemirror_mode": {
    "name": "ipython",
    "version": 3
   },
   "file_extension": ".py",
   "mimetype": "text/x-python",
   "name": "python",
   "nbconvert_exporter": "python",
   "pygments_lexer": "ipython3",
   "version": "3.11.3"
  }
 },
 "nbformat": 4,
 "nbformat_minor": 2
}
