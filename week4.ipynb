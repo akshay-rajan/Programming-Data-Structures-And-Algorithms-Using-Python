{
 "cells": [
  {
   "cell_type": "markdown",
   "metadata": {},
   "source": [
    "## Merge Sort\n",
    "\n",
    "* Divide the array in two equal parts\n",
    "* Recursively sort left and right halves\n",
    "* Merge the sorted halves\n",
    "\n",
    "\n",
    "To merge, compare the first element of A and B, move it to C. Repeat until all elements in A and B are over.\n",
    "\n",
    "> **32** 74 89 \n",
    ">\n",
    "> **21** 54 64\n",
    "> \n",
    "> 21                                (21 is smaller than 32)\n",
    ">\n",
    "> 21 32                             (32 is smaller than 54)\n",
    ">\n",
    "> 21 32 54\n",
    ">\n",
    "> 21 32 54 64\n",
    ">\n",
    "> 21 32 54 64 74\n",
    ">\n",
    "> 21 32 54 64 74 89\n",
    "\n",
    "\n",
    "\n"
   ]
  },
  {
   "cell_type": "markdown",
   "metadata": {},
   "source": [
    "#### Merge Sort in Python: Divide and Conquer\n",
    "```\n",
    "Sort A[:n//2]\n",
    "Sort A[n//2:]\n",
    "Merge the sorted halves into B[0:n]\n",
    "\n",
    "```\n",
    "Each half is sorted recursively"
   ]
  },
  {
   "cell_type": "code",
   "execution_count": 8,
   "metadata": {},
   "outputs": [
    {
     "data": {
      "text/plain": [
       "[1, 2, 3, 4, 5, 6]"
      ]
     },
     "execution_count": 8,
     "metadata": {},
     "output_type": "execute_result"
    }
   ],
   "source": [
    "# Merge A[0:n//2], B[n//2:0]\n",
    "def merge(A, B):\n",
    "    C = []\n",
    "    m, n = len(A), len(B)\n",
    "    # Current positions in A and B\n",
    "    i, j = 0, 0\n",
    "    # i + j is the number of elements merged so far\n",
    "    while i + j < m + n:\n",
    "        # Reached the end of A\n",
    "        if i == m:\n",
    "            C.append(B[j])\n",
    "            j += 1\n",
    "        # Reached the end of B\n",
    "        elif j == n:\n",
    "            C.append(A[i])\n",
    "            i += 1\n",
    "        # If the element in A is smaller\n",
    "        elif A[i] <= B[j]:\n",
    "            C.append(A[i])\n",
    "            i += 1\n",
    "        # Else\n",
    "        elif A[i] > B[j]:\n",
    "            C.append(B[j])\n",
    "            j += 1            \n",
    "    return C\n",
    "\n",
    "A, B = [1, 3, 5], [2, 4, 6]\n",
    "merge(A, B)"
   ]
  },
  {
   "cell_type": "code",
   "execution_count": 9,
   "metadata": {},
   "outputs": [],
   "source": [
    "# Combining Cases\n",
    "# def merge(A, B):\n",
    "#     C = []\n",
    "#     m, n = len(A), len(B)\n",
    "#     i, j = 0, 0\n",
    "#     while i + j < m + n:\n",
    "#         if i == m or A[i] > B[j]:\n",
    "#             C.append(B[j])\n",
    "#             j += 1\n",
    "#         elif j == n or A[i] <= B[j]:\n",
    "#             C.append(A[j])\n",
    "#             i += 1\n",
    "#     return C"
   ]
  },
  {
   "cell_type": "markdown",
   "metadata": {},
   "source": [
    "### MergeSort (O(n log n))"
   ]
  },
  {
   "cell_type": "code",
   "execution_count": 10,
   "metadata": {},
   "outputs": [],
   "source": [
    "def mergeSort(A, left, right):\n",
    "    if right - left <= 1:\n",
    "        return A[left:right]\n",
    "    \n",
    "    mid = (left + right) // 2\n",
    "    L, R = mergeSort(A, left, mid), mergeSort(A, mid, right)\n",
    "    \n",
    "    return merge(L, R)"
   ]
  },
  {
   "cell_type": "code",
   "execution_count": 11,
   "metadata": {},
   "outputs": [
    {
     "name": "stdout",
     "output_type": "stream",
     "text": [
      "[1, 3, 5, 7, 9, 11, 13, 15, 17, 19, 21, 23, 25, 27, 29, 31, 33, 35, 37, 39, 41, 43, 45, 47, 49, 51, 53, 55, 57, 59, 61, 63, 65, 67, 69, 71, 73, 75, 77, 79, 81, 83, 85, 87, 89, 91, 93, 95, 97, 99, 0, 2, 4, 6, 8, 10, 12, 14, 16, 18, 20, 22, 24, 26, 28, 30, 32, 34, 36, 38, 40, 42, 44, 46, 48, 50, 52, 54, 56, 58, 60, 62, 64, 66, 68, 70, 72, 74, 76, 78, 80, 82, 84, 86, 88, 90, 92, 94, 96, 98]\n",
      "[0, 1, 2, 3, 4, 5, 6, 7, 8, 9, 10, 11, 12, 13, 14, 15, 16, 17, 18, 19, 20, 21, 22, 23, 24, 25, 26, 27, 28, 29, 30, 31, 32, 33, 34, 35, 36, 37, 38, 39, 40, 41, 42, 43, 44, 45, 46, 47, 48, 49, 50, 51, 52, 53, 54, 55, 56, 57, 58, 59, 60, 61, 62, 63, 64, 65, 66, 67, 68, 69, 70, 71, 72, 73, 74, 75, 76, 77, 78, 79, 80, 81, 82, 83, 84, 85, 86, 87, 88, 89, 90, 91, 92, 93, 94, 95, 96, 97, 98, 99]\n"
     ]
    }
   ],
   "source": [
    "a = list(range(1, 100, 2)) + list(range(0, 100, 2))\n",
    "print(a)\n",
    "\n",
    "print(mergeSort(a, 0, len(a)))"
   ]
  },
  {
   "cell_type": "markdown",
   "metadata": {},
   "source": [
    "To merge `A` of size `m` and `B` of size `n`, \n",
    "* In each iteration, we add one element to `C`\n",
    "* Size of `C` is `m + n`\n",
    "* Hence the `merge` function takes `O(max(m, n))` = **O(n)**\n",
    "\n",
    "To sort two halves of A[0:n] into B[0:n],\n",
    "* Assume `n = 2^k`\n",
    "* To divide the list and merge two lists of size `n/2`,\n",
    "\n",
    "    `T(n) = 2T(n/2) + n`\n",
    "    \n",
    "    `= (2 ^ log n) + (log n * n)`\n"
   ]
  },
  {
   "cell_type": "markdown",
   "metadata": {},
   "source": [
    "Merge sort requires extra space. Also, recursive calls are expensive. Suppose the median value in A is m. We move all values smaller than m to left and larger than m to right. Now we can sort the left and right halves, without requiring an extra array. Here also, the time complexity is O(n log n).\n",
    "\n",
    "## QuickSort\n",
    "\n",
    "+ Choose a pivot element (typically the first element)\n",
    "+ Partition A into lower and upper parts w.r.t pivot\n",
    "+ Move pivot between lower and uppper partitions\n",
    "+ Recursively sort the two partitions\n",
    "\n",
    "    **43** 33 24 78 85 40 13\n",
    "    \n",
    "    33 24 40 13 **43**  78 85"
   ]
  },
  {
   "cell_type": "code",
   "execution_count": 23,
   "metadata": {},
   "outputs": [
    {
     "name": "stdout",
     "output_type": "stream",
     "text": [
      "[99, 97, 95, 93, 91, 89, 87, 85, 83, 81, 79, 77, 75, 73, 71, 69, 67, 65, 63, 61, 59, 57, 55, 53, 51, 49, 47, 45, 43, 41, 39, 37, 35, 33, 31, 29, 27, 25, 23, 21, 19, 17, 15, 13, 11, 9, 7, 5, 3, 1, 0, 2, 4, 6, 8, 10, 12, 14, 16, 18, 20, 22, 24, 26, 28, 30, 32, 34, 36, 38, 40, 42, 44, 46, 48, 50, 52, 54, 56, 58, 60, 62, 64, 66, 68, 70, 72, 74, 76, 78, 80, 82, 84, 86, 88, 90, 92, 94, 96, 98]\n",
      "[0, 1, 2, 3, 4, 5, 6, 7, 8, 9, 10, 11, 12, 13, 14, 15, 16, 17, 18, 19, 20, 21, 22, 23, 24, 25, 26, 27, 28, 29, 30, 31, 32, 33, 34, 35, 36, 37, 38, 39, 40, 41, 42, 43, 44, 45, 46, 47, 48, 49, 50, 51, 52, 53, 54, 55, 56, 57, 58, 59, 60, 61, 62, 63, 64, 65, 66, 67, 68, 69, 70, 71, 72, 73, 74, 75, 76, 77, 78, 79, 80, 81, 82, 83, 84, 85, 86, 87, 88, 89, 90, 91, 92, 93, 94, 95, 96, 97, 98, 99]\n"
     ]
    }
   ],
   "source": [
    "def quickSort(A, l, r):\n",
    "    # Base Case\n",
    "    if r - l <= 1:\n",
    "        return\n",
    "    \n",
    "    # Partition with respect to pivot\n",
    "    yellow = l + 1\n",
    "    for green in range(l + 1, r):\n",
    "        # Swap\n",
    "        if A[green] <= A[l]:\n",
    "            A[yellow], A[green] = A[green], A[yellow]\n",
    "            yellow += 1\n",
    "    \n",
    "    # Move pivot into place\n",
    "    A[l], A[yellow - 1] = A[yellow - 1], A[l]\n",
    "    \n",
    "    quickSort(A, l, yellow - 1)\n",
    "    quickSort(A, yellow, r)\n",
    "    \n",
    "    \n",
    "a = list(range(99, 0, -2)) + list(range(0, 100, 2))\n",
    "print(a)\n",
    "quickSort(a, 0, len(a))\n",
    "print(a)"
   ]
  },
  {
   "cell_type": "markdown",
   "metadata": {},
   "source": [
    "Quick sort is not stable. It disturbs the original order of the array."
   ]
  },
  {
   "cell_type": "markdown",
   "metadata": {},
   "source": [
    "## Tuples and Dictionaries\n",
    "\n",
    "        point = (3.5, 4,2)\n",
    "        date = (12, 3, 24)\n",
    "        x_coordinates = point[0]\n",
    "        monthyear = date[1:]\n",
    "\n",
    "Lists can be seen as a map from index/positions(integers) to values. The positions are called `keys`. For lists, the keys are range(0, n). If key is a `string`, we call the data structure **dictionary** (in some other languages, we call it an associative array). \n",
    "\n",
    "> In python, any immutable value could be a key\n",
    "\n",
    "#### Tuples are immutable. Dictionaries are mutable.\n",
    "\n",
    "* {} - Dictionary\n",
    "* [] - List\n",
    "* () - Tuple\n",
    "\n",
    "\n",
    "`d.keys()` returns a sequence of keys in `d`, not in any predictable order. The function returns an object and not a list.\n",
    "Similarly `d.values()` is a sequence of values in `d`."
   ]
  },
  {
   "cell_type": "markdown",
   "metadata": {},
   "source": [
    "## Function Definitions\n",
    "\n",
    "### Passing Values to functions\n",
    "\n",
    "* f(3, 5) - like an implicit assignment statement.\n",
    "* f(n=3, m=5) - pass arguments by name. The position of arguments in the function defiinition is irrelevant.\n",
    "* f(x, y=10) - Default argument, given in the function definition. If the parameter is omitted during function call, the default value is taken\n",
    "\n",
    "\n",
    "`def` associates the function body with a name. We can assign a function to a new name: `g = f`"
   ]
  },
  {
   "cell_type": "markdown",
   "metadata": {},
   "source": [
    "## Updating Lists\n",
    "\n",
    "* `map(f, l)` applies `f` to each element in `l`. The output of map is not a list, hence we need to use _list()_.\n",
    "* `filter(p, l)` checks `p` for each element of `l` and returns the sublist of l that satisfy p (p is a boolean function)."
   ]
  },
  {
   "cell_type": "code",
   "execution_count": 25,
   "metadata": {},
   "outputs": [
    {
     "name": "stdout",
     "output_type": "stream",
     "text": [
      "[0, 4, 16, 36, 64, 100, 144, 196, 256, 324, 400, 484, 576, 676, 784, 900, 1024, 1156, 1296, 1444, 1600, 1764, 1936, 2116, 2304, 2500, 2704, 2916, 3136, 3364, 3600, 3844, 4096, 4356, 4624, 4900, 5184, 5476, 5776, 6084, 6400, 6724, 7056, 7396, 7744, 8100, 8464, 8836, 9216, 9604]\n"
     ]
    }
   ],
   "source": [
    "# Sum of squares of even numbers from 0 to 99\n",
    "print(list(map(lambda x: x * x, filter(lambda x: x % 2 == 0, range(100)))))"
   ]
  },
  {
   "cell_type": "markdown",
   "metadata": {},
   "source": [
    "### List Comprehension\n",
    "\n",
    "List comprehension is obtained from `set comprehension` in set theory, which is a style of programming called functional programming. List comprehension combines map and filter.\n",
    "\n",
    ">Set comprehension: {x | 0 <= x < 10, x mod 2 = 0}\n",
    ">\n",
    ">List comprehension: `[x * x for x in range(100) if x % 2 == 0]`"
   ]
  },
  {
   "cell_type": "code",
   "execution_count": 28,
   "metadata": {},
   "outputs": [
    {
     "name": "stdout",
     "output_type": "stream",
     "text": [
      "[(0, 0, 0), (0, 1, 1), (0, 2, 2), (0, 3, 3), (0, 4, 4), (0, 5, 5), (0, 6, 6), (0, 7, 7), (0, 8, 8), (0, 9, 9), (0, 10, 10), (0, 11, 11), (0, 12, 12), (0, 13, 13), (0, 14, 14), (0, 15, 15), (0, 16, 16), (0, 17, 17), (0, 18, 18), (0, 19, 19), (0, 20, 20), (0, 21, 21), (0, 22, 22), (0, 23, 23), (0, 24, 24), (0, 25, 25), (0, 26, 26), (0, 27, 27), (0, 28, 28), (0, 29, 29), (0, 30, 30), (0, 31, 31), (0, 32, 32), (0, 33, 33), (0, 34, 34), (0, 35, 35), (0, 36, 36), (0, 37, 37), (0, 38, 38), (0, 39, 39), (0, 40, 40), (0, 41, 41), (0, 42, 42), (0, 43, 43), (0, 44, 44), (0, 45, 45), (0, 46, 46), (0, 47, 47), (0, 48, 48), (0, 49, 49), (0, 50, 50), (0, 51, 51), (0, 52, 52), (0, 53, 53), (0, 54, 54), (0, 55, 55), (0, 56, 56), (0, 57, 57), (0, 58, 58), (0, 59, 59), (0, 60, 60), (0, 61, 61), (0, 62, 62), (0, 63, 63), (0, 64, 64), (0, 65, 65), (0, 66, 66), (0, 67, 67), (0, 68, 68), (0, 69, 69), (0, 70, 70), (0, 71, 71), (0, 72, 72), (0, 73, 73), (0, 74, 74), (0, 75, 75), (0, 76, 76), (0, 77, 77), (0, 78, 78), (0, 79, 79), (0, 80, 80), (0, 81, 81), (0, 82, 82), (0, 83, 83), (0, 84, 84), (0, 85, 85), (0, 86, 86), (0, 87, 87), (0, 88, 88), (0, 89, 89), (0, 90, 90), (0, 91, 91), (0, 92, 92), (0, 93, 93), (0, 94, 94), (0, 95, 95), (0, 96, 96), (0, 97, 97), (0, 98, 98), (0, 99, 99), (3, 4, 5), (5, 12, 13), (6, 8, 10), (7, 24, 25), (8, 15, 17), (9, 12, 15), (9, 40, 41), (10, 24, 26), (11, 60, 61), (12, 16, 20), (12, 35, 37), (13, 84, 85), (14, 48, 50), (15, 20, 25), (15, 36, 39), (16, 30, 34), (16, 63, 65), (18, 24, 30), (18, 80, 82), (20, 21, 29), (20, 48, 52), (21, 28, 35), (21, 72, 75), (24, 32, 40), (24, 45, 51), (24, 70, 74), (25, 60, 65), (27, 36, 45), (28, 45, 53), (30, 40, 50), (30, 72, 78), (32, 60, 68), (33, 44, 55), (33, 56, 65), (35, 84, 91), (36, 48, 60), (36, 77, 85), (39, 52, 65), (39, 80, 89), (40, 42, 58), (40, 75, 85), (42, 56, 70), (45, 60, 75), (48, 55, 73), (48, 64, 80), (51, 68, 85), (54, 72, 90), (57, 76, 95), (60, 63, 87), (65, 72, 97)]\n"
     ]
    }
   ],
   "source": [
    "# Pythagorean Triples\n",
    "print([(x, y, z) for x in range(100) for y in range(x, 100) for z in range(y, 100) if x * x + y * y == z * z])"
   ]
  },
  {
   "cell_type": "markdown",
   "metadata": {},
   "source": [
    "### Quiz"
   ]
  },
  {
   "cell_type": "code",
   "execution_count": 1,
   "metadata": {},
   "outputs": [
    {
     "data": {
      "text/plain": [
       "258"
      ]
     },
     "execution_count": 1,
     "metadata": {},
     "output_type": "execute_result"
    }
   ],
   "source": [
    "def mystery(l,v):\n",
    "  if len(l) == 0:\n",
    "    return (v)\n",
    "  else:\n",
    "    return (mystery(l[:-1],l[-1]+v))\n",
    "\n",
    "mystery([22,14,19,65,82,55],1)"
   ]
  },
  {
   "cell_type": "code",
   "execution_count": 2,
   "metadata": {},
   "outputs": [
    {
     "data": {
      "text/plain": [
       "[(2, 4, 5), (3, 3, 5), (3, 4, 5), (3, 4, 6)]"
      ]
     },
     "execution_count": 2,
     "metadata": {},
     "output_type": "execute_result"
    }
   ],
   "source": [
    "triples = [ (x,y,z) for x in range(2,4) for y in range(2,5) for z in range(5,7) if 2*x*y > 3*z ]\n",
    "triples"
   ]
  },
  {
   "cell_type": "code",
   "execution_count": 9,
   "metadata": {},
   "outputs": [],
   "source": [
    "runs = {\"Test\":{\"Rahul\":[90,14,35],\"Kohli\":[3,103,73,42],\"Pujara\":[53,15,133,8]},\"ODI\":{\"Sharma\":[37,99],\"Kohli\":[63,47]}}\n",
    "\n",
    "# runs[\"ODI\"][\"Rahul\"].append([74])\n",
    "# runs[\"ODI\"][\"Rahul\"].extend([74])\n",
    "# runs[\"ODI\"][\"Rahul\"][0]=74\n",
    "runs[\"ODI\"][\"Rahul\"]=[74]"
   ]
  },
  {
   "cell_type": "code",
   "execution_count": 15,
   "metadata": {},
   "outputs": [
    {
     "ename": "TypeError",
     "evalue": "unhashable type: 'list'",
     "output_type": "error",
     "traceback": [
      "\u001b[1;31m---------------------------------------------------------------------------\u001b[0m",
      "\u001b[1;31mTypeError\u001b[0m                                 Traceback (most recent call last)",
      "Cell \u001b[1;32mIn[15], line 5\u001b[0m\n\u001b[0;32m      1\u001b[0m inventory \u001b[38;5;241m=\u001b[39m {}\n\u001b[0;32m      3\u001b[0m \u001b[38;5;66;03m# inventory[\"Amul\"] = [\"Mystic Mocha\",55]\u001b[39;00m\n\u001b[0;32m      4\u001b[0m \u001b[38;5;66;03m# inventory[\"Amul, Mystic Mocha\"] = 55\u001b[39;00m\n\u001b[1;32m----> 5\u001b[0m \u001b[43minventory\u001b[49m\u001b[43m[\u001b[49m\u001b[43m[\u001b[49m\u001b[38;5;124;43m\"\u001b[39;49m\u001b[38;5;124;43mAmul\u001b[39;49m\u001b[38;5;124;43m\"\u001b[39;49m\u001b[43m,\u001b[49m\u001b[38;5;124;43m\"\u001b[39;49m\u001b[38;5;124;43mMystic Mocha\u001b[39;49m\u001b[38;5;124;43m\"\u001b[39;49m\u001b[43m]\u001b[49m\u001b[43m]\u001b[49m \u001b[38;5;241m=\u001b[39m \u001b[38;5;241m55\u001b[39m\n\u001b[0;32m      6\u001b[0m \u001b[38;5;66;03m# inventory[(\"Amul\",\"Mystic Mocha\")] = 55\u001b[39;00m\n",
      "\u001b[1;31mTypeError\u001b[0m: unhashable type: 'list'"
     ]
    }
   ],
   "source": [
    "inventory = {}\n",
    "\n",
    "# inventory[\"Amul\"] = [\"Mystic Mocha\",55]\n",
    "# inventory[\"Amul, Mystic Mocha\"] = 55\n",
    "inventory[[\"Amul\",\"Mystic Mocha\"]] = 55\n",
    "# inventory[(\"Amul\",\"Mystic Mocha\")] = 55"
   ]
  },
  {
   "cell_type": "markdown",
   "metadata": {},
   "source": [
    "### Assignment"
   ]
  },
  {
   "cell_type": "code",
   "execution_count": 36,
   "metadata": {},
   "outputs": [
    {
     "data": {
      "text/plain": [
       "('Pant', 143)"
      ]
     },
     "execution_count": 36,
     "metadata": {},
     "output_type": "execute_result"
    }
   ],
   "source": [
    "def orangecap(d):\n",
    "    matches = list(d.values())\n",
    "    scores = {}\n",
    "    for match in matches:\n",
    "        for player, score in match.items():\n",
    "            if player in scores:\n",
    "                scores[player] += score\n",
    "            else:\n",
    "                scores[player] = score\n",
    "    return max(scores, key = lambda x: scores[x]), max(scores.values())\n",
    "    \n",
    "orangecap({'test1':{'Pant':84, 'Kohli':120}, 'test2':{'Pant':59, 'Gill':42}})"
   ]
  },
  {
   "cell_type": "code",
   "execution_count": 76,
   "metadata": {},
   "outputs": [
    {
     "data": {
      "text/plain": [
       "[]"
      ]
     },
     "execution_count": 76,
     "metadata": {},
     "output_type": "execute_result"
    }
   ],
   "source": [
    "def addpoly(p1, p2):\n",
    "    \"\"\"A Polynomial ax^b + cx^d + ... is represented as [(a,b),(c,d),...]\"\"\"    \n",
    "    merged, ans = p1 + p2, []\n",
    "    for term in merged:\n",
    "        # If the power of a term repeats\n",
    "        if term[1] in [x[1] for x in merged]:\n",
    "            # Find the sum of the coefficients with the same power and append the answer\n",
    "            sum_of_terms = sum([x[0] for x in merged if x[1] == term[1]])\n",
    "            ans.append((sum_of_terms, term[1]))\n",
    "            # Remove all terms with the same power\n",
    "            merged = [x for x in merged if x[1] != term[1]]\n",
    "          \n",
    "    # Remove all terms with 0 coefficient and return\n",
    "    return [x for x in sorted(ans, key = lambda x: x[1], reverse = True) if x[0]]\n",
    "\n",
    "\n",
    "addpoly([(4,3),(3,0)],[(-4,3),(2,1)])\n",
    "addpoly([(2,1)],[(-2,1)])"
   ]
  },
  {
   "cell_type": "code",
   "execution_count": 77,
   "metadata": {},
   "outputs": [
    {
     "data": {
      "text/plain": [
       "[(1, 3), (-1, 0)]"
      ]
     },
     "execution_count": 77,
     "metadata": {},
     "output_type": "execute_result"
    }
   ],
   "source": [
    "def multpoly(p1, p2):\n",
    "    ans = []\n",
    "    for term1 in p1:\n",
    "        for term2 in p2:\n",
    "            # Multiply each term in p1 with every term in p2\n",
    "            ans.append((term1[0] * term2[0], term1[1] + term2[1]))\n",
    "    # Cleanup the answer\n",
    "    return addpoly(ans, [])\n",
    "\n",
    "multpoly([(1,1),(-1,0)],[(1,2),(1,1),(1,0)])"
   ]
  }
 ],
 "metadata": {
  "kernelspec": {
   "display_name": "Python 3",
   "language": "python",
   "name": "python3"
  },
  "language_info": {
   "codemirror_mode": {
    "name": "ipython",
    "version": 3
   },
   "file_extension": ".py",
   "mimetype": "text/x-python",
   "name": "python",
   "nbconvert_exporter": "python",
   "pygments_lexer": "ipython3",
   "version": "3.11.3"
  }
 },
 "nbformat": 4,
 "nbformat_minor": 2
}
