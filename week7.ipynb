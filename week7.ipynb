{
 "cells": [
  {
   "cell_type": "markdown",
   "metadata": {},
   "source": [
    "## Abstract Datatypes\n",
    "\n",
    "A Data Structure is an organization of information whose behaviour is defined through an `interface` (allowed set of operations: enqueue, pop etc.).\n",
    "\n",
    "We can define `abstract datatypes` in which the operations and not the implementation defines the datatype.\n",
    "\n",
    "* We can define a stack as\n",
    "\n",
    "        (s.push(v)).pop() == v\n",
    "\n",
    "* A queue is defined as\n",
    "\n",
    "        ((q.addq(u)).addq(v)).removeq() == u\n",
    "\n",
    "The functions must work the same way, independent from their implementation, which lets us optimize the implementation without affecting functionality. \n"
   ]
  },
  {
   "cell_type": "markdown",
   "metadata": {},
   "source": [
    "## Object Oriented Programming\n",
    "\n",
    "Using OOP Paradigm, we can provide datatype definitions with\n",
    "* Public interface - Operations allowed on the data\n",
    "* Private implementation\n",
    "\n",
    "### Class\n",
    "\n",
    "Class is a `template / blueprint` for a data type. It defines how the data is stored and how the public functions manipulate data.\n",
    "\n",
    "### Object\n",
    "\n",
    "Objects are `instances` of a class."
   ]
  },
  {
   "cell_type": "code",
   "execution_count": 81,
   "metadata": {},
   "outputs": [],
   "source": [
    "class Node:\n",
    "    def __init__(self, val):\n",
    "        self.val = val\n",
    "        self.left = None\n",
    "        self.right = None\n",
    "\n",
    "class Heap:\n",
    "    def __init__(self, l):\n",
    "        while l:\n",
    "            self.insert(l.pop(0))\n",
    "    \n",
    "    def insert(self, x):\n",
    "        pass\n",
    "    \n",
    "    def delete_max(self):\n",
    "        pass\n",
    "    \n",
    "l = [2, 3, 4, 5, 6, 7, 8, 9, 10, 1]\n",
    "h = Heap(l)\n",
    "h.insert(11)"
   ]
  },
  {
   "cell_type": "markdown",
   "metadata": {},
   "source": [
    "* `__init__` creates / initializes the object.\n",
    "* `self` or the first parameter refers to the current object."
   ]
  },
  {
   "cell_type": "code",
   "execution_count": 82,
   "metadata": {},
   "outputs": [
    {
     "name": "stdout",
     "output_type": "stream",
     "text": [
      "(1, 2)\n",
      "Translated: (3, 4)\n",
      "Distance from origin: 5.0\n",
      "(0, 0)\n",
      "(6, 8)\n"
     ]
    }
   ],
   "source": [
    "class Point:\n",
    "    def __init__(self, x=0, y=0):\n",
    "        \"\"\"Constructor\"\"\"\n",
    "        self.x = x\n",
    "        self.y = y\n",
    "    \n",
    "    def translate(self, dx, dy):\n",
    "        \"\"\"Shift (x, y) to (x+dx, y+dy)\"\"\"\n",
    "        self.x += dx\n",
    "        self.y += dy\n",
    "        \n",
    "    def absolute(self):\n",
    "        \"\"\"Return the distance from the origin\"\"\"\n",
    "        return (self.x**2 + self.y**2) ** 0.5\n",
    "        \n",
    "    def __add__(self, other):\n",
    "        \"\"\"Method overriding for + operator\"\"\"\n",
    "        return Point(self.x + other.x, self.y + other.y)\n",
    "    \n",
    "    def __mult__(self, other):\n",
    "        \"\"\"Method overriding for * operator\"\"\"\n",
    "        pass\n",
    "    \n",
    "    def __str__(self):\n",
    "        \"\"\"String Representation\"\"\"\n",
    "        return f'({self.x}, {self.y})'\n",
    "\n",
    "p1 = Point(1, 2)\n",
    "print(p1)\n",
    "p1.translate(2, 2)\n",
    "print(\"Translated:\", p1)\n",
    "print(\"Distance from origin:\", p1.absolute())\n",
    "p2 = Point()\n",
    "print(p2)\n",
    "p3 = Point(3, 4)\n",
    "print(p1 + p3)"
   ]
  },
  {
   "cell_type": "code",
   "execution_count": 83,
   "metadata": {},
   "outputs": [],
   "source": [
    "from math import atan\n",
    "\n",
    "class Polar(Point):\n",
    "    def __init__(self, x, y):\n",
    "        self.r = (x**2 + y**2) ** 0.5\n",
    "        self.theta = atan(y, x) if x != 0 else 0\n",
    "        \n",
    "    def absolute(self):\n",
    "        return self.r\n"
   ]
  },
  {
   "cell_type": "markdown",
   "metadata": {},
   "source": [
    "## User Defined Lists\n",
    "\n",
    "A list is a sequence of node, with each node containing a value and pointing to the next node.\n",
    "\n",
    "An empty list contains only one node, with None as value, and None as the pointer to the next node."
   ]
  },
  {
   "cell_type": "code",
   "execution_count": 92,
   "metadata": {},
   "outputs": [],
   "source": [
    "class Node:\n",
    "    def __init__(self, val=None):\n",
    "        self.val = val\n",
    "        self.next = None\n",
    "        \n",
    "    def isempty(self):\n",
    "        return self.val is None\n",
    "    \n",
    "    def append(self, value):\n",
    "        \"\"\"Insert a value at the end of the list\"\"\"\n",
    "        if self.isempty():\n",
    "            self.val = value\n",
    "        elif self.next is None:\n",
    "            self.next = Node(value)\n",
    "        else:\n",
    "            # Recursively go to the end of the list\n",
    "            self.next.append(value)\n",
    "            \n",
    "    def append_iter(self, value):\n",
    "        \"\"\"Insert a value at the end of the list iteratively\"\"\"\n",
    "        if self.isempty():\n",
    "            self.val = value\n",
    "            return\n",
    "        \n",
    "        # Iteratively go to the end of the list\n",
    "        temp = self\n",
    "        while temp.next:\n",
    "            temp = temp.next\n",
    "        temp.next = Node(value)\n",
    "            \n",
    "    def insert(self, value):\n",
    "        \"\"\"Insert a value at the beginning of the list, without reassiging the head\"\"\"\n",
    "        if self.isempty():\n",
    "            self.val = value\n",
    "            return\n",
    "        \n",
    "        newnode = Node(value)\n",
    "        # Swap the contents of first node with the newnode\n",
    "        self.val, newnode.val = newnode.val, self.val\n",
    "        self.next, newnode.next = newnode, self.next\n",
    "        \n",
    "    def delete(self, value):\n",
    "        \"\"\"Delete a node from the list\"\"\"\n",
    "        if self.isempty():\n",
    "            return\n",
    "        \n",
    "        # If the value is in the first node\n",
    "        if self.val == value:\n",
    "            # If only one node in the list\n",
    "            if self.next is None:\n",
    "                self.val = None\n",
    "            else:\n",
    "                # Copy the value of the next node to the current node and remove connection between them\n",
    "                self.val = self.next.val\n",
    "                self.next = self.next.next\n",
    "            return\n",
    "        \n",
    "        temp = self\n",
    "        while temp:\n",
    "            if temp.next.val == value:\n",
    "                temp.next = temp.next.next\n",
    "                return\n",
    "            temp = temp.next\n",
    "            \n",
    "    def delete_rec(self, value):\n",
    "        \"\"\"Delete a node from the list recursively\"\"\"\n",
    "        if self.isempty():\n",
    "            return\n",
    "        \n",
    "        if self.val == value:\n",
    "            # If only one node\n",
    "            if self.next is None:\n",
    "                self.val = None\n",
    "            else:\n",
    "                self.val = self.next.val\n",
    "                self.next = self.next.next\n",
    "                return\n",
    "            \n",
    "        if self.next:\n",
    "            # Recursive call\n",
    "            self.next.delete_rec(value)\n",
    "            # If we just deleted the last node, remove the connection to it\n",
    "            if self.next.val == None:\n",
    "                self.next = None\n",
    "                \n",
    "    def __str__(self):\n",
    "        l = []\n",
    "        if self.val is not None:\n",
    "            temp = self\n",
    "            while temp:\n",
    "                l.append(self.val)\n",
    "                temp = temp.next                \n",
    "        return str(l)  \n",
    "    \n",
    "    def sum(self):\n",
    "        if self.val == None:\n",
    "            return 0\n",
    "        elif self.next == None:\n",
    "            return self.val\n",
    "        else:\n",
    "            return self.val + self.next.sum()\n",
    "\n"
   ]
  },
  {
   "cell_type": "code",
   "execution_count": 85,
   "metadata": {},
   "outputs": [
    {
     "name": "stdout",
     "output_type": "stream",
     "text": [
      "[0]\n"
     ]
    }
   ],
   "source": [
    "l1 = Node(0)\n",
    "print(l1)"
   ]
  },
  {
   "cell_type": "markdown",
   "metadata": {},
   "source": [
    "[Code](/list.py)"
   ]
  },
  {
   "cell_type": "markdown",
   "metadata": {},
   "source": [
    "## Binary Search Trees\n",
    "\n",
    "Sorting is useful for efficient searching. If the data is changing dynamically, we need to re - sort the list, which will be expensive. Binary Search Tree keeps exactly one copy of every value. For every node, the values, smaller than the current values are to the left, and the values greater than that are to the right.\n",
    "\n",
    "### Nodes\n",
    "\n",
    "Each node in the BST has\n",
    "* A value stored\n",
    "* A left child\n",
    "* A right child\n",
    "\n",
    "A node without any children is called a `leaf node`.\n",
    "\n",
    "A better representation is to add a layer of `empty nodes` with all fields `None`. Hence a leaf node is a node with left and right children as empty nodes.\n",
    "\n",
    "`Traversal` is a way of systematically visiting every node in the tree."
   ]
  },
  {
   "cell_type": "code",
   "execution_count": 86,
   "metadata": {},
   "outputs": [],
   "source": [
    "class Tree:\n",
    "    def __init__(self, val=None) -> None:\n",
    "        self.val = val\n",
    "        if self.val:\n",
    "            self.left = Tree()\n",
    "            self.right = Tree()\n",
    "        else:\n",
    "            # For creating an empty Tree\n",
    "            self.left = None\n",
    "            self.right = None\n",
    "            \n",
    "    def isempty(self):\n",
    "        return self.val is None\n",
    "    \n",
    "    def isleaf(self):\n",
    "        return self.left.isempty() and self.right.isempty()\n",
    "    \n",
    "    def inorder(self):\n",
    "        \"\"\"Inorder Traversal\"\"\"\n",
    "        if self.isempty():\n",
    "            return []\n",
    "        return self.left.inorder() + [self.val] + self.right.inorder()\n",
    "    \n",
    "    def __str__(self):\n",
    "        return str(self.inorder())\n",
    "    \n",
    "    def find(self, value):\n",
    "        \"\"\"Search for a value in the tree recursively - Binary Search\"\"\"\n",
    "        if self.isempty():\n",
    "            return False\n",
    "        if self.val == value:\n",
    "            return True\n",
    "        if self.val < value:\n",
    "            return self.left.find(value)\n",
    "        else:\n",
    "            return self.right.find(value)\n",
    "        \n",
    "    def minimum(self):\n",
    "        \"\"\"Return the minimum value in a non-empty tree\"\"\"\n",
    "        if self.left.isempty():\n",
    "            return self.val\n",
    "        return self.left.minimum()\n",
    "    \n",
    "    def maximum(self):\n",
    "        \"\"\"Return the maximum value in a non-empty tree\"\"\"\n",
    "        if self.right.isempty():\n",
    "            return self.val\n",
    "        return self.right.maximum()\n",
    "    \n",
    "    def insert(self, value):\n",
    "        \"\"\"Insert a value into the tree\"\"\"\n",
    "        if self.isempty():\n",
    "            self.val = value\n",
    "            self.left = Tree()\n",
    "            self.right = Tree()\n",
    "        elif self.val == value:\n",
    "            # The value is already present in the tree\n",
    "            return\n",
    "        elif self.val < value:\n",
    "            self.right.insert(value)\n",
    "        else:\n",
    "            self.left.insert(value)\n",
    "            \n",
    "    def delete(self, value):\n",
    "        \"\"\"Delete a value, if present\"\"\"\n",
    "        if self.isempty():\n",
    "            return\n",
    "        if self.val > value:\n",
    "            self.left.delete(value)\n",
    "        elif self.val < value:\n",
    "            self.right.delete(value)\n",
    "        else:\n",
    "            # If the value is found\n",
    "            if self.isleaf():\n",
    "                # Empty the node\n",
    "                self.val = self.left = self.right = None\n",
    "            elif self.left.isempty():\n",
    "                # Copy everything from the right\n",
    "                self.val = self.right.val\n",
    "                self.right.val = self.left\n",
    "                self.right = self.right.right\n",
    "            else:\n",
    "                # Replace the node with its Inorder Successor and delete the successor\n",
    "                self.val = self.right.minimum()\n",
    "                self.right.delete(self.val)"
   ]
  },
  {
   "cell_type": "markdown",
   "metadata": {},
   "source": [
    "Complexity is determined by the height of the tree. For a balanced tree, the complexity is `O(log n)` for `n` nodes. We can balance a tree using rotations - AVL Tree."
   ]
  },
  {
   "cell_type": "code",
   "execution_count": 87,
   "metadata": {},
   "outputs": [
    {
     "name": "stdout",
     "output_type": "stream",
     "text": [
      "[22, 40, 63, 65, 69, 72, 86, 88, 97, 99]\n",
      "[10, 22, 40, 63, 65, 69, 72, 86, 88, 97, 99]\n",
      "[22, 40, 63, 65, 69, 72, 86, 88, 97, 99]\n"
     ]
    }
   ],
   "source": [
    "import random\n",
    "\n",
    "t = Tree()\n",
    "for i in random.sample(range(100), 10):\n",
    "    t.insert(i)\n",
    "    \n",
    "print(t)\n",
    "t.insert(10)\n",
    "print(t)\n",
    "t.delete(10)\n",
    "print(t)"
   ]
  },
  {
   "cell_type": "markdown",
   "metadata": {},
   "source": [
    "# Quiz"
   ]
  },
  {
   "cell_type": "markdown",
   "metadata": {},
   "source": [
    "\n",
    "#### 1. Given the following permutation of a,b,c,d,e,f,g,h,i,j, what is the previous permutation in lexicographic (dictionary) order?\n",
    "\n",
    "    fjadchbegi\n",
    "\n",
    "\n",
    "1. Start from the rightmost character of the string and find the first pair of adjacent characters that follow the increasing order from right to left, i.e., `a[i-1] < a[i]`. Here -> `begi`\n",
    "\n",
    "2. The letter before it is `h`. The next smallest letter in the suffix is `g`\n",
    "\n",
    "3. Swap these values -> `gbehi`\n",
    "\n",
    "4. Arrange the remaining letters in the decreasing order -> `giheb`\n",
    "\n",
    "Ans: `fjadcgiheb`"
   ]
  },
  {
   "cell_type": "code",
   "execution_count": 70,
   "metadata": {},
   "outputs": [],
   "source": [
    "def prevPermutation(word):\n",
    "    word = [char for char in word]\n",
    "    num1, char1, char2 = 0, '', ''\n",
    "    for i in range(len(word) - 1, -1, -1):\n",
    "        if word[i - 1] > word[i]:\n",
    "            num1 = i\n",
    "            char1 = word[i-1]\n",
    "            break\n",
    "    print(\"Original:\", word)\n",
    "    print(\"Suffix:\", word[num1: ])\n",
    "    # Find the next largest letter in the substring after num1\n",
    "    char2, num2 = 'A', -1\n",
    "    for j in range(num1, len(word)):\n",
    "        if word[j] > char2 and word[j] < char1:\n",
    "            num2 = j\n",
    "            char2 = word[j]\n",
    "    num1 -= 1\n",
    "    print(\"To swap:\", char1, char2)\n",
    "    # Sort the remaining characters in the decreasing order and swap these characters\n",
    "    sorted_suffix = sorted(word[num1:], reverse=True)\n",
    "    sorted_suffix.remove(char1)\n",
    "    sorted_suffix.remove(char2)\n",
    "    print(\"Suffix: \", sorted_suffix)\n",
    "    remaining = word[:num1]\n",
    "    ans = remaining + [char2] + sorted_suffix\n",
    "    ans.insert(num2 - 1, char1)\n",
    "    print(\"Remaining:\", ans)\n",
    "    return \"\".join(ans)"
   ]
  },
  {
   "cell_type": "code",
   "execution_count": 73,
   "metadata": {},
   "outputs": [
    {
     "name": "stdout",
     "output_type": "stream",
     "text": [
      "Original: ['f', 'j', 'a', 'd', 'c', 'h', 'b', 'e', 'g', 'i']\n",
      "Suffix: ['b', 'e', 'g', 'i']\n",
      "To swap: h g\n",
      "Suffix:  ['i', 'e', 'b']\n",
      "Remaining: ['f', 'j', 'a', 'd', 'c', 'g', 'i', 'h', 'e', 'b']\n",
      "fjadcgiheb\n"
     ]
    }
   ],
   "source": [
    "word = \"fjadchbegi\"\n",
    "print(prevPermutation(word))"
   ]
  },
  {
   "cell_type": "markdown",
   "metadata": {},
   "source": [
    "#### 2. Assume we have defined a class Node that implements user defined lists of numbers. Each object node of type Node has two attributes node.value and node.next with the usual interpretation. We want to add a function sum() to the class Node which will compute the sum of values in the list. An incomplete implementation of sum() given below. What should be put in place of XXX and YYY?\n",
    "    def sum(self):\n",
    "      if self.value == None:\n",
    "        return(0)\n",
    "      elif self.next == None:\n",
    "        return(XXX)\n",
    "      else:\n",
    "        return(YYY)\n",
    "\n",
    " Replace XXX by 1 and YYY by 1 + self.next.sum()\n",
    "\n",
    " Replace XXX by 1 and YYY by self.value + self.next.sum()\n",
    "\n",
    " Replace XXX by self.value and YYY by 1 + self.next.sum()\n",
    " \n",
    " Replace XXX by self.value and YYY by self.value + self.next.sum()\n",
    "\n",
    " **Replace XXX by self.value and YYY by self.value + self.next.sum()**"
   ]
  },
  {
   "cell_type": "code",
   "execution_count": 93,
   "metadata": {},
   "outputs": [
    {
     "name": "stdout",
     "output_type": "stream",
     "text": [
      "2\n"
     ]
    }
   ],
   "source": [
    "l = Node(1)\n",
    "l.append_iter(1)\n",
    "print(l.sum())"
   ]
  },
  {
   "cell_type": "markdown",
   "metadata": {},
   "source": [
    "#### 3. Suppose we add this function foo() to the class Tree that implements search trees. For a name mytree with a value of type Tree, what would mytree.foo() compute?\n",
    "\n",
    "    def foo(self):\n",
    "        if self.isempty():\n",
    "            return(0)\n",
    "        elif self.isleaf():\n",
    "            return(self.value)\n",
    "        else:\n",
    "            return(self.value + max(self.left.foo(),\n",
    "                                    self.right.foo()))\n",
    " The sum of the elements in the tree\n",
    "\n",
    " The maximum sum across all root to leaf paths in the tree\n",
    "\n",
    " The length of the longest root to leaf path in the tree\n",
    " \n",
    " The number of root to leaf paths in the tree.\n",
    "\n",
    " **The maximum sum across all root to leaf paths in the tree**"
   ]
  },
  {
   "cell_type": "markdown",
   "metadata": {},
   "source": [
    "#### 4. The preorder traversal of a binary search tree with integer values produces the following sequence: 35, 23, 26, 46, 40, 39, 41, 52. What is the value of the right child of the root of the tree?\n",
    "    39\n",
    "    40\n",
    "    41\n",
    "    46 √\n",
    "\n"
   ]
  }
 ],
 "metadata": {
  "kernelspec": {
   "display_name": "Python 3",
   "language": "python",
   "name": "python3"
  },
  "language_info": {
   "codemirror_mode": {
    "name": "ipython",
    "version": 3
   },
   "file_extension": ".py",
   "mimetype": "text/x-python",
   "name": "python",
   "nbconvert_exporter": "python",
   "pygments_lexer": "ipython3",
   "version": "3.11.3"
  }
 },
 "nbformat": 4,
 "nbformat_minor": 2
}
