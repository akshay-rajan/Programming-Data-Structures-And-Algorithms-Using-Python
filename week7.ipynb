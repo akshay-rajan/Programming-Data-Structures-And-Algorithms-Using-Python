{
 "cells": [
  {
   "cell_type": "markdown",
   "metadata": {},
   "source": [
    "## Abstract Datatypes\n",
    "\n",
    "A Data Structure is an organization of information whose behaviour is defined through an `interface` (allowed set of operations: enqueue, pop etc.).\n",
    "\n",
    "We can define `abstract datatypes` in which the operations and not the implementation defines the datatype.\n",
    "\n",
    "* We can define a stack as\n",
    "\n",
    "        (s.push(v)).pop() == v\n",
    "\n",
    "* A queue is defined as\n",
    "\n",
    "        ((q.addq(u)).addq(v)).removeq() == u\n",
    "\n",
    "The functions must work the same way, independent from their implementation, which lets us optimize the implementation without affecting functionality. \n"
   ]
  },
  {
   "cell_type": "markdown",
   "metadata": {},
   "source": [
    "## Object Oriented Programming\n",
    "\n",
    "Using OOP Paradigm, we can provide datatype definitions with\n",
    "* Public interface - Operations allowed on the data\n",
    "* Private implementation\n",
    "\n",
    "### Class\n",
    "\n",
    "Class is a `template / blueprint` for a data type. It defines how the data is stored and how the public functions manipulate data.\n",
    "\n",
    "### Object\n",
    "\n",
    "Objects are `instances` of a class."
   ]
  },
  {
   "cell_type": "code",
   "execution_count": 4,
   "metadata": {},
   "outputs": [],
   "source": [
    "class Node:\n",
    "    def __init__(self, val):\n",
    "        self.val = val\n",
    "        self.left = None\n",
    "        self.right = None\n",
    "\n",
    "class Heap:\n",
    "    def __init__(self, l):\n",
    "        while l:\n",
    "            self.insert(l.pop(0))\n",
    "    \n",
    "    def insert(self, x):\n",
    "        pass\n",
    "    \n",
    "    def delete_max(self):\n",
    "        pass\n",
    "    \n",
    "l = [2, 3, 4, 5, 6, 7, 8, 9, 10, 1]\n",
    "h = Heap(l)\n",
    "h.insert(11)"
   ]
  },
  {
   "cell_type": "markdown",
   "metadata": {},
   "source": []
  },
  {
   "cell_type": "markdown",
   "metadata": {},
   "source": []
  },
  {
   "cell_type": "markdown",
   "metadata": {},
   "source": []
  },
  {
   "cell_type": "markdown",
   "metadata": {},
   "source": []
  },
  {
   "cell_type": "markdown",
   "metadata": {},
   "source": []
  }
 ],
 "metadata": {
  "kernelspec": {
   "display_name": "Python 3",
   "language": "python",
   "name": "python3"
  },
  "language_info": {
   "codemirror_mode": {
    "name": "ipython",
    "version": 3
   },
   "file_extension": ".py",
   "mimetype": "text/x-python",
   "name": "python",
   "nbconvert_exporter": "python",
   "pygments_lexer": "ipython3",
   "version": "3.11.3"
  }
 },
 "nbformat": 4,
 "nbformat_minor": 2
}
