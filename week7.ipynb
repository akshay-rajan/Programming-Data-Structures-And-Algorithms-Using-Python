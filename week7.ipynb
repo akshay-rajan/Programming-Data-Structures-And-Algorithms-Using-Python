{
 "cells": [
  {
   "cell_type": "markdown",
   "metadata": {},
   "source": [
    "## Abstract Datatypes\n",
    "\n",
    "A Data Structure is an organization of information whose behaviour is defined through an `interface` (allowed set of operations: enqueue, pop etc.).\n",
    "\n",
    "We can define `abstract datatypes` in which the operations and not the implementation defines the datatype.\n",
    "\n",
    "* We can define a stack as\n",
    "\n",
    "        (s.push(v)).pop() == v\n",
    "\n",
    "* A queue is defined as\n",
    "\n",
    "        ((q.addq(u)).addq(v)).removeq() == u\n",
    "\n",
    "The functions must work the same way, independent from their implementation, which lets us optimize the implementation without affecting functionality. \n"
   ]
  },
  {
   "cell_type": "markdown",
   "metadata": {},
   "source": [
    "## Object Oriented Programming\n",
    "\n",
    "Using OOP Paradigm, we can provide datatype definitions with\n",
    "* Public interface - Operations allowed on the data\n",
    "* Private implementation\n",
    "\n",
    "### Class\n",
    "\n",
    "Class is a `template / blueprint` for a data type. It defines how the data is stored and how the public functions manipulate data.\n",
    "\n",
    "### Object\n",
    "\n",
    "Objects are `instances` of a class."
   ]
  },
  {
   "cell_type": "code",
   "execution_count": 5,
   "metadata": {},
   "outputs": [],
   "source": [
    "class Node:\n",
    "    def __init__(self, val):\n",
    "        self.val = val\n",
    "        self.left = None\n",
    "        self.right = None\n",
    "\n",
    "class Heap:\n",
    "    def __init__(self, l):\n",
    "        while l:\n",
    "            self.insert(l.pop(0))\n",
    "    \n",
    "    def insert(self, x):\n",
    "        pass\n",
    "    \n",
    "    def delete_max(self):\n",
    "        pass\n",
    "    \n",
    "l = [2, 3, 4, 5, 6, 7, 8, 9, 10, 1]\n",
    "h = Heap(l)\n",
    "h.insert(11)"
   ]
  },
  {
   "cell_type": "markdown",
   "metadata": {},
   "source": [
    "* `__init__` creates / initializes the object.\n",
    "* `self` or the first parameter refers to the current object."
   ]
  },
  {
   "cell_type": "code",
   "execution_count": 18,
   "metadata": {},
   "outputs": [
    {
     "name": "stdout",
     "output_type": "stream",
     "text": [
      "(1, 2)\n",
      "Translated: (3, 4)\n",
      "Distance from origin: 5.0\n",
      "(0, 0)\n",
      "(6, 8)\n"
     ]
    }
   ],
   "source": [
    "class Point:\n",
    "    def __init__(self, x=0, y=0):\n",
    "        \"\"\"Constructor\"\"\"\n",
    "        self.x = x\n",
    "        self.y = y\n",
    "    \n",
    "    def translate(self, dx, dy):\n",
    "        \"\"\"Shift (x, y) to (x+dx, y+dy)\"\"\"\n",
    "        self.x += dx\n",
    "        self.y += dy\n",
    "        \n",
    "    def absolute(self):\n",
    "        \"\"\"Return the distance from the origin\"\"\"\n",
    "        return (self.x**2 + self.y**2) ** 0.5\n",
    "        \n",
    "    def __add__(self, other):\n",
    "        \"\"\"Method overriding for + operator\"\"\"\n",
    "        return Point(self.x + other.x, self.y + other.y)\n",
    "    \n",
    "    def __mult__(self, other):\n",
    "        \"\"\"Method overriding for * operator\"\"\"\n",
    "        pass\n",
    "    \n",
    "    def __str__(self):\n",
    "        \"\"\"String Representation\"\"\"\n",
    "        return f'({self.x}, {self.y})'\n",
    "\n",
    "p1 = Point(1, 2)\n",
    "print(p1)\n",
    "p1.translate(2, 2)\n",
    "print(\"Translated:\", p1)\n",
    "print(\"Distance from origin:\", p1.absolute())\n",
    "p2 = Point()\n",
    "print(p2)\n",
    "p3 = Point(3, 4)\n",
    "print(p1 + p3)"
   ]
  },
  {
   "cell_type": "code",
   "execution_count": 14,
   "metadata": {},
   "outputs": [],
   "source": [
    "from math import atan\n",
    "\n",
    "class Polar(Point):\n",
    "    def __init__(self, x, y):\n",
    "        self.r = (x**2 + y**2) ** 0.5\n",
    "        self.theta = atan(y, x) if x != 0 else 0\n",
    "        \n",
    "    def absolute(self):\n",
    "        return self.r\n"
   ]
  },
  {
   "cell_type": "markdown",
   "metadata": {},
   "source": [
    "## User Defined Lists\n",
    "\n",
    "A list is a sequence of node, with each node containing a value and pointing to the next node.\n",
    "\n",
    "An empty list contains only one node, with None as value, and None as the pointer to the next node."
   ]
  },
  {
   "cell_type": "code",
   "execution_count": 36,
   "metadata": {},
   "outputs": [],
   "source": [
    "class Node:\n",
    "    def __init__(self, val=None):\n",
    "        self.val = val\n",
    "        self.next = None\n",
    "        \n",
    "    def isempty(self):\n",
    "        return self.val is None\n",
    "    \n",
    "    def append(self, value):\n",
    "        \"\"\"Insert a value at the end of the list\"\"\"\n",
    "        if self.isempty():\n",
    "            self.val = value\n",
    "        elif self.next is None:\n",
    "            self.next = Node(value)\n",
    "        else:\n",
    "            # Recursively go to the end of the list\n",
    "            self.next.append(value)\n",
    "            \n",
    "    def append_iter(self, value):\n",
    "        \"\"\"Insert a value at the end of the list iteratively\"\"\"\n",
    "        if self.isempty():\n",
    "            self.val = value\n",
    "            return\n",
    "        \n",
    "        # Iteratively go to the end of the list\n",
    "        temp = self\n",
    "        while temp.next:\n",
    "            temp = temp.next\n",
    "        temp.next = Node(value)\n",
    "            \n",
    "    def insert(self, value):\n",
    "        \"\"\"Insert a value at the beginning of the list, without reassiging the head\"\"\"\n",
    "        if self.isempty():\n",
    "            self.val = value\n",
    "            return\n",
    "        \n",
    "        newnode = Node(value)\n",
    "        # Swap the contents of first node with the newnode\n",
    "        self.val, newnode.val = newnode.val, self.val\n",
    "        self.next, newnode.next = newnode, self.next\n",
    "        \n",
    "    def delete(self, value):\n",
    "        \"\"\"Delete a node from the list\"\"\"\n",
    "        if self.isempty():\n",
    "            return\n",
    "        \n",
    "        # If the value is in the first node\n",
    "        if self.val == value:\n",
    "            # If only one node in the list\n",
    "            if self.next is None:\n",
    "                self.val = None\n",
    "            else:\n",
    "                # Copy the value of the next node to the current node and remove connection between them\n",
    "                self.val = self.next.val\n",
    "                self.next = self.next.next\n",
    "            return\n",
    "        \n",
    "        temp = self\n",
    "        while temp:\n",
    "            if temp.next.val == value:\n",
    "                temp.next = temp.next.next\n",
    "                return\n",
    "            temp = temp.next\n",
    "            \n",
    "    def delete_rec(self, value):\n",
    "        \"\"\"Delete a node from the list recursively\"\"\"\n",
    "        if self.isempty():\n",
    "            return\n",
    "        \n",
    "        if self.val == value:\n",
    "            # If only one node\n",
    "            if self.next is None:\n",
    "                self.val = None\n",
    "            else:\n",
    "                self.val = self.next.val\n",
    "                self.next = self.next.next\n",
    "                return\n",
    "            \n",
    "        if self.next:\n",
    "            # Recursive call\n",
    "            self.next.delete_rec(value)\n",
    "            # If we just deleted the last node, remove the connection to it\n",
    "            if self.next.val == None:\n",
    "                self.next = None\n",
    "                \n",
    "    def __str__(self):\n",
    "        l = []\n",
    "        if self.val is not None:\n",
    "            temp = self\n",
    "            while temp:\n",
    "                l.append(self.val)\n",
    "                temp = temp.next                \n",
    "        return str(l)  "
   ]
  },
  {
   "cell_type": "code",
   "execution_count": 39,
   "metadata": {},
   "outputs": [
    {
     "name": "stdout",
     "output_type": "stream",
     "text": [
      "[0]\n"
     ]
    }
   ],
   "source": [
    "l1 = Node(0)\n",
    "print(l1)"
   ]
  },
  {
   "cell_type": "markdown",
   "metadata": {},
   "source": [
    "[Code](/list.py)"
   ]
  },
  {
   "cell_type": "code",
   "execution_count": null,
   "metadata": {},
   "outputs": [],
   "source": []
  },
  {
   "cell_type": "code",
   "execution_count": null,
   "metadata": {},
   "outputs": [],
   "source": []
  },
  {
   "cell_type": "markdown",
   "metadata": {},
   "source": []
  },
  {
   "cell_type": "markdown",
   "metadata": {},
   "source": []
  },
  {
   "cell_type": "markdown",
   "metadata": {},
   "source": []
  }
 ],
 "metadata": {
  "kernelspec": {
   "display_name": "Python 3",
   "language": "python",
   "name": "python3"
  },
  "language_info": {
   "codemirror_mode": {
    "name": "ipython",
    "version": 3
   },
   "file_extension": ".py",
   "mimetype": "text/x-python",
   "name": "python",
   "nbconvert_exporter": "python",
   "pygments_lexer": "ipython3",
   "version": "3.11.3"
  }
 },
 "nbformat": 4,
 "nbformat_minor": 2
}
